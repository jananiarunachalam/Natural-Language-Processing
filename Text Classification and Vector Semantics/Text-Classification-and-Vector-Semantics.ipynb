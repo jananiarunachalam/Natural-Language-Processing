{
 "cells": [
  {
   "cell_type": "markdown",
   "metadata": {},
   "source": [
    "# Text Classification\n",
    "<br>"
   ]
  },
  {
   "cell_type": "markdown",
   "metadata": {},
   "source": [
    "<br>\n",
    "\n",
    "### Problem 1: \n",
    "\n",
    "Writing performace metrics functions to evaluate the performance of the models.\n"
   ]
  },
  {
   "cell_type": "code",
   "execution_count": 1,
   "metadata": {},
   "outputs": [],
   "source": [
    "# ----- Importing libraries -----\n",
    "\n",
    "\n",
    "import numpy as np\n",
    "import pandas as pd    # To load data into dataframe"
   ]
  },
  {
   "cell_type": "code",
   "execution_count": 2,
   "metadata": {},
   "outputs": [],
   "source": [
    "# ----- Confusion Matrix Function to calculate Precision, Recall, F1-score -----\n",
    "\n",
    "\n",
    "def confusion_mat(y_pred, actual_y):\n",
    "    cm = np.zeros((2, 2))\n",
    "    for p, t in zip(y_pred, actual_y):\n",
    "        cm[p][t] += 1\n",
    "    return cm[0,1], cm[1,0], cm[1,1]\n",
    "\n",
    "\n",
    "# Confusion Matrix that gets generated:\n",
    "\n",
    "#             Actual\n",
    "#             0    1\n",
    "#           0 TN   FN\n",
    "# Predicted\n",
    "#           1 FP   TP\n",
    "\n",
    "\n",
    "\n",
    "# ----- Function to calculate Precision  -----\n",
    "\n",
    "\n",
    "def get_precision(y_pred, actual_y):\n",
    "    _, fp, tp = confusion_mat(y_pred, actual_y)\n",
    "    return (tp/(tp+fp))   # precision = true_positives/total_predicted_positives\n",
    "\n",
    "\n",
    "\n",
    "\n",
    "\n",
    "# ----- Function to calculate Recall  -----\n",
    "\n",
    "\n",
    "def get_recall(y_pred, actual_y):\n",
    "    fn, _, tp = confusion_mat(y_pred, actual_y)\n",
    "    return (tp/(tp+fn))   # recall = true_positives/total_actual_positives\n",
    "\n",
    "\n",
    "\n",
    "\n",
    "\n",
    "# ----- Function to calculate F1-score  -----\n",
    "\n",
    "\n",
    "def f_score(y_pred, actual_y):\n",
    "    fn, fp, tp = confusion_mat(y_pred, actual_y)\n",
    "    \n",
    "    # f-measure = 2*precision*recall/(precision+recall)\n",
    "    \n",
    "    return (2 * (tp/(tp+fp)) * (tp/(tp+fn))) / ((tp/(tp+fp)) + (tp/(tp+fn)))\n",
    "\n",
    "\n",
    "# ----- Resources used in https://stackoverflow.com/questions/2148543/how-to-write-a-confusion-matrix-in-python"
   ]
  },
  {
   "cell_type": "markdown",
   "metadata": {},
   "source": [
    "<br>\n",
    "<br>\n",
    "\n",
    "## Baseline Model #1\n"
   ]
  },
  {
   "cell_type": "markdown",
   "metadata": {},
   "source": [
    "### Problem 2:\n",
    "\n",
    "#### Majority Class Baseline model\n",
    "\n",
    "\n",
    "The label for the test data is taken as the majority class found in the training data, which is the class with the most reviews in our training data.\n",
    "\n",
    "There is no class imbalance in the training data, i.e.,  there equal number of reviews in both the positive and negative classes of reviews.\n",
    "\n",
    "Reporting Precision, Recall and F-measure for both training and test data."
   ]
  },
  {
   "cell_type": "code",
   "execution_count": 3,
   "metadata": {},
   "outputs": [],
   "source": [
    "# ----- Importing libraries ----- \n",
    "\n",
    "import sklearn\n",
    "from sklearn.datasets import load_files   # To load training & test data\n",
    "\n",
    "\n",
    "# ----- Importing training data ----- \n",
    "# ----- Folders 'pos' and 'neg' are specified to just retrieve data from those ----- \n",
    "# ----- The \"train\" folder is inside \"aclImdb\" folder\n",
    "\n",
    "imdb_train_dir = r'aclImdb/train/'\n",
    "train = load_files(imdb_train_dir, categories=['pos','neg'])\n",
    "\n",
    "\n",
    "# ----- Resources used: http://www.pitt.edu/~naraehan/presentation/Movie+Reviews+sentiment+analysis+with+Scikit-Learn.html"
   ]
  },
  {
   "cell_type": "code",
   "execution_count": 4,
   "metadata": {},
   "outputs": [],
   "source": [
    "# ----- Importing testing data ----- \n",
    "# ----- The \"test\" folder is inside \"aclImdb\" folder\n",
    "\n",
    "imdb_test_dir = r'aclImdb/test/'\n",
    "test = load_files(imdb_test_dir, categories=['pos','neg'])"
   ]
  },
  {
   "cell_type": "code",
   "execution_count": 5,
   "metadata": {},
   "outputs": [
    {
     "data": {
      "text/plain": [
       "array([1, 0, 1, ..., 0, 0, 0])"
      ]
     },
     "execution_count": 5,
     "metadata": {},
     "output_type": "execute_result"
    }
   ],
   "source": [
    "# ----- Printing the list of targets ----- \n",
    "\n",
    "\n",
    "train.target"
   ]
  },
  {
   "cell_type": "code",
   "execution_count": 6,
   "metadata": {},
   "outputs": [
    {
     "data": {
      "text/plain": [
       "'aclImdb/train/pos/11485_10.txt'"
      ]
     },
     "execution_count": 6,
     "metadata": {},
     "output_type": "execute_result"
    }
   ],
   "source": [
    "# ----- Printing the first filename ----- \n",
    "\n",
    "\n",
    "train.filenames[0]"
   ]
  },
  {
   "cell_type": "code",
   "execution_count": 7,
   "metadata": {},
   "outputs": [
    {
     "data": {
      "text/plain": [
       "b'Zero Day leads you to think, even re-think why two boys/young men would do what they did - commit mutual suicide via slaughtering their classmates. It captures what must be beyond a bizarre mode of being for two humans who have decided to withdraw from common civility in order to define their own/mutual world via coupled destruction.<br /><br />It is not a perfect movie but given what money/time the filmmaker and actors had - it is a remarkable product. In terms of explaining the motives and act'"
      ]
     },
     "execution_count": 7,
     "metadata": {},
     "output_type": "execute_result"
    }
   ],
   "source": [
    "# ----- Testing to see if everything's working fine ----- \n",
    "\n",
    "\n",
    "train.data[0][:500]"
   ]
  },
  {
   "cell_type": "code",
   "execution_count": 8,
   "metadata": {},
   "outputs": [
    {
     "name": "stdout",
     "output_type": "stream",
     "text": [
      "Maximum class is: \n",
      "Equal\n"
     ]
    }
   ],
   "source": [
    "# ----- Finding out the maximum class ----- \n",
    "\n",
    "\n",
    "print(\"Maximum class is: \")\n",
    "if (train.target == 1).sum() > (train.target == 0).sum():\n",
    "    print(\"Positive\")\n",
    "elif (train.target == 1).sum() < (train.target == 0).sum():\n",
    "    print(\"Negative\")\n",
    "else:\n",
    "    print(\"Equal\")"
   ]
  },
  {
   "cell_type": "markdown",
   "metadata": {},
   "source": [
    "Taking positive as the maximum class as both the classes have equal amount of reviews in them and taking any of them would result the same."
   ]
  },
  {
   "cell_type": "code",
   "execution_count": 9,
   "metadata": {},
   "outputs": [
    {
     "data": {
      "text/plain": [
       "[0, 0, 0, 0, 0, 0, 0, 0, 0, 0]"
      ]
     },
     "execution_count": 9,
     "metadata": {},
     "output_type": "execute_result"
    }
   ],
   "source": [
    "# ----- Making y_pred = 0 to test the baseline model -----  \n",
    "\n",
    "total = (train.target == 1).sum() + (train.target == 0).sum()\n",
    "y_pred = [0]*total\n",
    "y_pred[:10]  # Checking"
   ]
  },
  {
   "cell_type": "markdown",
   "metadata": {},
   "source": [
    "The accuracy for both the models(class positive and class negative) will be the same(as there is no class imbalance, i.e., both the classes are equal), which is 50%. But the precision, recall and f1-score will differ. The difference is due to the negative class being represented as zeros. While we're calculating precision, we will be dividing a some number by zero and it would result in a nan value. As precision is used in calculating f1-score, the result of that will be zero as well."
   ]
  },
  {
   "cell_type": "code",
   "execution_count": 10,
   "metadata": {},
   "outputs": [
    {
     "name": "stdout",
     "output_type": "stream",
     "text": [
      "\n",
      "Majority Class Baseline Model\n",
      "-----------------------------\n",
      "Performance Measures of our model on Training Data:\n",
      "Precison: nan\n",
      "Recall: 0.0\n",
      "F1-score: nan\n",
      "\n",
      "------------------------------------------\n",
      "\n",
      "Majority Class Baseline Model\n",
      "-----------------------------\n",
      "Performance Measures of our model on Testing Data:\n",
      "Precison: nan\n",
      "Recall: 0.0\n"
     ]
    },
    {
     "name": "stderr",
     "output_type": "stream",
     "text": [
      "//anaconda3/lib/python3.7/site-packages/ipykernel_launcher.py:26: RuntimeWarning: invalid value encountered in double_scalars\n",
      "//anaconda3/lib/python3.7/site-packages/ipykernel_launcher.py:51: RuntimeWarning: invalid value encountered in double_scalars\n"
     ]
    },
    {
     "name": "stdout",
     "output_type": "stream",
     "text": [
      "F1-score: nan\n",
      "\n"
     ]
    }
   ],
   "source": [
    "print(\"\")\n",
    "print(\"Majority Class Baseline Model\")\n",
    "print(\"-----------------------------\")\n",
    "print(\"Performance Measures of our model on Training Data:\")\n",
    "print(\"Precison:\", get_precision(y_pred, train.target)*100)\n",
    "print(\"Recall:\", get_recall(y_pred, train.target)*100)\n",
    "print(\"F1-score:\", f_score(y_pred, train.target)*100)\n",
    "print(\"\")\n",
    "print(\"------------------------------------------\")\n",
    "print(\"\")\n",
    "print(\"Majority Class Baseline Model\")\n",
    "print(\"-----------------------------\")\n",
    "print(\"Performance Measures of our model on Testing Data:\")\n",
    "print(\"Precison:\", get_precision(y_pred, test.target)*100)\n",
    "print(\"Recall:\", get_recall(y_pred, test.target)*100)\n",
    "print(\"F1-score:\", f_score(y_pred, test.target)*100)\n",
    "print(\"\")"
   ]
  },
  {
   "cell_type": "code",
   "execution_count": 11,
   "metadata": {},
   "outputs": [
    {
     "data": {
      "text/plain": [
       "[1, 1, 1, 1, 1, 1, 1, 1, 1, 1]"
      ]
     },
     "execution_count": 11,
     "metadata": {},
     "output_type": "execute_result"
    }
   ],
   "source": [
    "# ----- Making y_pred = 1 -----  \n",
    "\n",
    "y_pred = [1]*total\n",
    "y_pred[:10]"
   ]
  },
  {
   "cell_type": "code",
   "execution_count": 12,
   "metadata": {},
   "outputs": [
    {
     "name": "stdout",
     "output_type": "stream",
     "text": [
      "\n",
      "Baseline Model\n",
      "--------------\n",
      "Performance Measures of our model on Training Data:\n",
      "Precison: 50.0\n",
      "Recall: 100.0\n",
      "F1-score: 66.66666666666666\n",
      "\n",
      "------------------------------------------\n",
      "\n",
      "Baseline Model\n",
      "--------------\n",
      "Performance Measures of our model on Testing Data:\n",
      "Precison: 50.0\n",
      "Recall: 100.0\n",
      "F1-score: 66.66666666666666\n",
      "\n"
     ]
    }
   ],
   "source": [
    "print(\"\")\n",
    "print(\"Baseline Model\")\n",
    "print(\"--------------\")\n",
    "print(\"Performance Measures of our model on Training Data:\")\n",
    "print(\"Precison:\", get_precision(y_pred, train.target)*100)\n",
    "print(\"Recall:\", get_recall(y_pred, train.target)*100)\n",
    "print(\"F1-score:\", f_score(y_pred, train.target)*100)\n",
    "print(\"\")\n",
    "print(\"------------------------------------------\")\n",
    "print(\"\")\n",
    "print(\"Baseline Model\")\n",
    "print(\"--------------\")\n",
    "print(\"Performance Measures of our model on Testing Data:\")\n",
    "print(\"Precison:\", get_precision(y_pred, test.target)*100)\n",
    "print(\"Recall:\", get_recall(y_pred, test.target)*100)\n",
    "print(\"F1-score:\", f_score(y_pred, test.target)*100)\n",
    "print(\"\")"
   ]
  },
  {
   "cell_type": "markdown",
   "metadata": {},
   "source": [
    "<br>\n",
    "<br>\n",
    "\n",
    "## Baseline Model #2\n"
   ]
  },
  {
   "cell_type": "markdown",
   "metadata": {},
   "source": [
    "### Problem 3:\n",
    "\n",
    "#### Review Length Baseline\n",
    "\n",
    "The length of the reviews are taken as a deciding factor to classify reviews.\n",
    "\n",
    "\n",
    "Thresholds value:\n",
    "\n",
    "1. Everything below mean is positive.\n",
    "\n",
    "2. Everything above mean is positive.\n",
    "\n",
    "3. Arbitrary value: 750.\n"
   ]
  },
  {
   "cell_type": "code",
   "execution_count": 13,
   "metadata": {},
   "outputs": [
    {
     "data": {
      "text/plain": [
       "[764, 1072, 411, 832, 1588, 341, 606, 1474, 2439, 259]"
      ]
     },
     "execution_count": 13,
     "metadata": {},
     "output_type": "execute_result"
    }
   ],
   "source": [
    "# ----- Creating a reviews length list -----\n",
    "\n",
    "train['length'] = [len(words) for words in train.data]\n",
    "train['length'][:10] #Checking"
   ]
  },
  {
   "cell_type": "code",
   "execution_count": 14,
   "metadata": {},
   "outputs": [
    {
     "data": {
      "text/html": [
       "<div>\n",
       "<style scoped>\n",
       "    .dataframe tbody tr th:only-of-type {\n",
       "        vertical-align: middle;\n",
       "    }\n",
       "\n",
       "    .dataframe tbody tr th {\n",
       "        vertical-align: top;\n",
       "    }\n",
       "\n",
       "    .dataframe thead th {\n",
       "        text-align: right;\n",
       "    }\n",
       "</style>\n",
       "<table border=\"1\" class=\"dataframe\">\n",
       "  <thead>\n",
       "    <tr style=\"text-align: right;\">\n",
       "      <th></th>\n",
       "      <th>data</th>\n",
       "      <th>filenames</th>\n",
       "      <th>target</th>\n",
       "      <th>length</th>\n",
       "    </tr>\n",
       "  </thead>\n",
       "  <tbody>\n",
       "    <tr>\n",
       "      <th>0</th>\n",
       "      <td>b\"Zero Day leads you to think, even re-think w...</td>\n",
       "      <td>aclImdb/train/pos/11485_10.txt</td>\n",
       "      <td>1</td>\n",
       "      <td>764</td>\n",
       "    </tr>\n",
       "    <tr>\n",
       "      <th>1</th>\n",
       "      <td>b'Words can\\'t describe how bad this movie is....</td>\n",
       "      <td>aclImdb/train/neg/6802_1.txt</td>\n",
       "      <td>0</td>\n",
       "      <td>1072</td>\n",
       "    </tr>\n",
       "    <tr>\n",
       "      <th>2</th>\n",
       "      <td>b'Everyone plays their part pretty well in thi...</td>\n",
       "      <td>aclImdb/train/pos/7641_10.txt</td>\n",
       "      <td>1</td>\n",
       "      <td>411</td>\n",
       "    </tr>\n",
       "    <tr>\n",
       "      <th>3</th>\n",
       "      <td>b'There are a lot of highly talented filmmaker...</td>\n",
       "      <td>aclImdb/train/neg/9698_1.txt</td>\n",
       "      <td>0</td>\n",
       "      <td>832</td>\n",
       "    </tr>\n",
       "    <tr>\n",
       "      <th>4</th>\n",
       "      <td>b'I\\'ve just had the evidence that confirmed m...</td>\n",
       "      <td>aclImdb/train/neg/3141_2.txt</td>\n",
       "      <td>0</td>\n",
       "      <td>1588</td>\n",
       "    </tr>\n",
       "    <tr>\n",
       "      <th>5</th>\n",
       "      <td>b\"The Movie was sub-par, but this Television P...</td>\n",
       "      <td>aclImdb/train/pos/1018_8.txt</td>\n",
       "      <td>1</td>\n",
       "      <td>341</td>\n",
       "    </tr>\n",
       "    <tr>\n",
       "      <th>6</th>\n",
       "      <td>b\"This movie has a special way of telling the ...</td>\n",
       "      <td>aclImdb/train/pos/9637_8.txt</td>\n",
       "      <td>1</td>\n",
       "      <td>606</td>\n",
       "    </tr>\n",
       "    <tr>\n",
       "      <th>7</th>\n",
       "      <td>b\"the single worst film i've ever seen in a th...</td>\n",
       "      <td>aclImdb/train/neg/10278_1.txt</td>\n",
       "      <td>0</td>\n",
       "      <td>1474</td>\n",
       "    </tr>\n",
       "    <tr>\n",
       "      <th>8</th>\n",
       "      <td>b\"The plot of this terrible film is so convolu...</td>\n",
       "      <td>aclImdb/train/neg/265_1.txt</td>\n",
       "      <td>0</td>\n",
       "      <td>2439</td>\n",
       "    </tr>\n",
       "    <tr>\n",
       "      <th>9</th>\n",
       "      <td>b'I had no idea that Mr. Izzard was so damn fu...</td>\n",
       "      <td>aclImdb/train/pos/3908_10.txt</td>\n",
       "      <td>1</td>\n",
       "      <td>259</td>\n",
       "    </tr>\n",
       "  </tbody>\n",
       "</table>\n",
       "</div>"
      ],
      "text/plain": [
       "                                                data  \\\n",
       "0  b\"Zero Day leads you to think, even re-think w...   \n",
       "1  b'Words can\\'t describe how bad this movie is....   \n",
       "2  b'Everyone plays their part pretty well in thi...   \n",
       "3  b'There are a lot of highly talented filmmaker...   \n",
       "4  b'I\\'ve just had the evidence that confirmed m...   \n",
       "5  b\"The Movie was sub-par, but this Television P...   \n",
       "6  b\"This movie has a special way of telling the ...   \n",
       "7  b\"the single worst film i've ever seen in a th...   \n",
       "8  b\"The plot of this terrible film is so convolu...   \n",
       "9  b'I had no idea that Mr. Izzard was so damn fu...   \n",
       "\n",
       "                        filenames  target  length  \n",
       "0  aclImdb/train/pos/11485_10.txt       1     764  \n",
       "1    aclImdb/train/neg/6802_1.txt       0    1072  \n",
       "2   aclImdb/train/pos/7641_10.txt       1     411  \n",
       "3    aclImdb/train/neg/9698_1.txt       0     832  \n",
       "4    aclImdb/train/neg/3141_2.txt       0    1588  \n",
       "5    aclImdb/train/pos/1018_8.txt       1     341  \n",
       "6    aclImdb/train/pos/9637_8.txt       1     606  \n",
       "7   aclImdb/train/neg/10278_1.txt       0    1474  \n",
       "8     aclImdb/train/neg/265_1.txt       0    2439  \n",
       "9   aclImdb/train/pos/3908_10.txt       1     259  "
      ]
     },
     "execution_count": 14,
     "metadata": {},
     "output_type": "execute_result"
    }
   ],
   "source": [
    "# ----- Putting data inside a Pandas dataframe to manipulate it -----\n",
    "\n",
    "train = pd.DataFrame.from_dict({key: train[key] for key in train.keys()\n",
    "                                & {'data', 'filenames', 'target', 'length'}})\n",
    "train.head(10)"
   ]
  },
  {
   "cell_type": "code",
   "execution_count": 15,
   "metadata": {},
   "outputs": [
    {
     "data": {
      "text/plain": [
       "1325.31292"
      ]
     },
     "execution_count": 15,
     "metadata": {},
     "output_type": "execute_result"
    }
   ],
   "source": [
    "# ----- Finding the average length to make everything below it to be positive -----\n",
    "# ----- according to this paper:\n",
    "# ----- https://www.emerald.com/insight/content/doi/10.1108/IntR-12-2016-0394/full/html\n",
    "# ----- shorter reviews are more positive\n",
    "\n",
    "import statistics \n",
    "\n",
    "average = statistics.mean(train['length'])\n",
    "average"
   ]
  },
  {
   "cell_type": "code",
   "execution_count": 16,
   "metadata": {},
   "outputs": [
    {
     "data": {
      "text/plain": [
       "0    1\n",
       "1    1\n",
       "2    1\n",
       "3    1\n",
       "4    0\n",
       "5    1\n",
       "6    1\n",
       "7    0\n",
       "8    0\n",
       "9    1\n",
       "Name: y_pred, dtype: int64"
      ]
     },
     "execution_count": 16,
     "metadata": {},
     "output_type": "execute_result"
    }
   ],
   "source": [
    "# ----- Predicting y from training data -----\n",
    "\n",
    "train['y_pred'] = train.length.apply(lambda x: 1 if x < average else 0)\n",
    "train['y_pred'][:10]"
   ]
  },
  {
   "cell_type": "code",
   "execution_count": 17,
   "metadata": {},
   "outputs": [
    {
     "data": {
      "text/html": [
       "<div>\n",
       "<style scoped>\n",
       "    .dataframe tbody tr th:only-of-type {\n",
       "        vertical-align: middle;\n",
       "    }\n",
       "\n",
       "    .dataframe tbody tr th {\n",
       "        vertical-align: top;\n",
       "    }\n",
       "\n",
       "    .dataframe thead th {\n",
       "        text-align: right;\n",
       "    }\n",
       "</style>\n",
       "<table border=\"1\" class=\"dataframe\">\n",
       "  <thead>\n",
       "    <tr style=\"text-align: right;\">\n",
       "      <th></th>\n",
       "      <th>data</th>\n",
       "      <th>filenames</th>\n",
       "      <th>target</th>\n",
       "      <th>length</th>\n",
       "    </tr>\n",
       "  </thead>\n",
       "  <tbody>\n",
       "    <tr>\n",
       "      <th>0</th>\n",
       "      <td>b\"Don't hate Heather Graham because she's beau...</td>\n",
       "      <td>aclImdb/test/pos/11485_9.txt</td>\n",
       "      <td>1</td>\n",
       "      <td>425</td>\n",
       "    </tr>\n",
       "    <tr>\n",
       "      <th>1</th>\n",
       "      <td>b'I don\\'t know how this movie has received so...</td>\n",
       "      <td>aclImdb/test/neg/6802_1.txt</td>\n",
       "      <td>0</td>\n",
       "      <td>705</td>\n",
       "    </tr>\n",
       "    <tr>\n",
       "      <th>2</th>\n",
       "      <td>b\"I caught this movie on the Horror Channel an...</td>\n",
       "      <td>aclImdb/test/pos/7641_8.txt</td>\n",
       "      <td>1</td>\n",
       "      <td>1549</td>\n",
       "    </tr>\n",
       "    <tr>\n",
       "      <th>3</th>\n",
       "      <td>b'NBC had a chance to make a powerful religiou...</td>\n",
       "      <td>aclImdb/test/neg/9698_1.txt</td>\n",
       "      <td>0</td>\n",
       "      <td>1104</td>\n",
       "    </tr>\n",
       "    <tr>\n",
       "      <th>4</th>\n",
       "      <td>b\"Looking for something shocking? Okay fine......</td>\n",
       "      <td>aclImdb/test/neg/3141_1.txt</td>\n",
       "      <td>0</td>\n",
       "      <td>1049</td>\n",
       "    </tr>\n",
       "    <tr>\n",
       "      <th>5</th>\n",
       "      <td>b'\"Are You in the House Alone?\" belongs to the...</td>\n",
       "      <td>aclImdb/test/pos/1018_7.txt</td>\n",
       "      <td>1</td>\n",
       "      <td>823</td>\n",
       "    </tr>\n",
       "    <tr>\n",
       "      <th>6</th>\n",
       "      <td>b\"I think this is one hell of a movie............</td>\n",
       "      <td>aclImdb/test/pos/9637_8.txt</td>\n",
       "      <td>1</td>\n",
       "      <td>295</td>\n",
       "    </tr>\n",
       "    <tr>\n",
       "      <th>7</th>\n",
       "      <td>b'I watched this movie a couple of weeks ago a...</td>\n",
       "      <td>aclImdb/test/neg/10278_4.txt</td>\n",
       "      <td>0</td>\n",
       "      <td>2591</td>\n",
       "    </tr>\n",
       "    <tr>\n",
       "      <th>8</th>\n",
       "      <td>b'Ocean\\'s Twelve: just plain stupid, bad and ...</td>\n",
       "      <td>aclImdb/test/neg/265_1.txt</td>\n",
       "      <td>0</td>\n",
       "      <td>742</td>\n",
       "    </tr>\n",
       "    <tr>\n",
       "      <th>9</th>\n",
       "      <td>b\"This excellent movie starring Elizabeth Mont...</td>\n",
       "      <td>aclImdb/test/pos/3908_10.txt</td>\n",
       "      <td>1</td>\n",
       "      <td>723</td>\n",
       "    </tr>\n",
       "  </tbody>\n",
       "</table>\n",
       "</div>"
      ],
      "text/plain": [
       "                                                data  \\\n",
       "0  b\"Don't hate Heather Graham because she's beau...   \n",
       "1  b'I don\\'t know how this movie has received so...   \n",
       "2  b\"I caught this movie on the Horror Channel an...   \n",
       "3  b'NBC had a chance to make a powerful religiou...   \n",
       "4  b\"Looking for something shocking? Okay fine......   \n",
       "5  b'\"Are You in the House Alone?\" belongs to the...   \n",
       "6  b\"I think this is one hell of a movie............   \n",
       "7  b'I watched this movie a couple of weeks ago a...   \n",
       "8  b'Ocean\\'s Twelve: just plain stupid, bad and ...   \n",
       "9  b\"This excellent movie starring Elizabeth Mont...   \n",
       "\n",
       "                      filenames  target  length  \n",
       "0  aclImdb/test/pos/11485_9.txt       1     425  \n",
       "1   aclImdb/test/neg/6802_1.txt       0     705  \n",
       "2   aclImdb/test/pos/7641_8.txt       1    1549  \n",
       "3   aclImdb/test/neg/9698_1.txt       0    1104  \n",
       "4   aclImdb/test/neg/3141_1.txt       0    1049  \n",
       "5   aclImdb/test/pos/1018_7.txt       1     823  \n",
       "6   aclImdb/test/pos/9637_8.txt       1     295  \n",
       "7  aclImdb/test/neg/10278_4.txt       0    2591  \n",
       "8    aclImdb/test/neg/265_1.txt       0     742  \n",
       "9  aclImdb/test/pos/3908_10.txt       1     723  "
      ]
     },
     "execution_count": 17,
     "metadata": {},
     "output_type": "execute_result"
    }
   ],
   "source": [
    "test['length'] = [len(words) for words in test.data]\n",
    "test = pd.DataFrame.from_dict({key: test[key] for key in test.keys()\n",
    "                               & {'data', 'filenames', 'target', 'length'}})\n",
    "test.head(10)"
   ]
  },
  {
   "cell_type": "code",
   "execution_count": 18,
   "metadata": {},
   "outputs": [
    {
     "data": {
      "text/plain": [
       "0    1\n",
       "1    1\n",
       "2    0\n",
       "3    1\n",
       "4    1\n",
       "5    1\n",
       "6    1\n",
       "7    0\n",
       "8    1\n",
       "9    1\n",
       "Name: y_pred, dtype: int64"
      ]
     },
     "execution_count": 18,
     "metadata": {},
     "output_type": "execute_result"
    }
   ],
   "source": [
    "# ----- Predicting y from test data -----\n",
    "\n",
    "test['y_pred'] = test.length.apply(lambda x: 1 if x < average else 0)\n",
    "test['y_pred'][:10]"
   ]
  },
  {
   "cell_type": "code",
   "execution_count": 19,
   "metadata": {},
   "outputs": [
    {
     "name": "stdout",
     "output_type": "stream",
     "text": [
      "\n",
      "Everything below mean length is positive\n",
      "\n",
      "Review Length Baseline Model\n",
      "----------------------------\n",
      "Performance Measures of our model on Training Data\n",
      "Precison: 49.31696455437203\n",
      "Recall: 65.56\n",
      "F1-score: 56.29013978088403\n",
      "\n",
      "------------------------------------------\n",
      "\n",
      "Review Length Baseline Model\n",
      "----------------------------\n",
      "Performance Measures of our model on Testing Data\n",
      "Precison: 50.07048044167743\n",
      "Recall: 68.2\n",
      "F1-score: 57.74571564045249\n",
      "\n"
     ]
    }
   ],
   "source": [
    "print(\"\")\n",
    "print(\"Everything below mean length is positive\")\n",
    "print(\"\")\n",
    "print(\"Review Length Baseline Model\")\n",
    "print(\"----------------------------\")\n",
    "print(\"Performance Measures of our model on Training Data\")\n",
    "print(\"Precison:\", get_precision(train.y_pred, train.target)*100)\n",
    "print(\"Recall:\", get_recall(train.y_pred, train.target)*100)\n",
    "print(\"F1-score:\", f_score(train.y_pred, train.target)*100)\n",
    "print(\"\")\n",
    "print(\"------------------------------------------\")\n",
    "print(\"\")\n",
    "print(\"Review Length Baseline Model\")\n",
    "print(\"----------------------------\")\n",
    "print(\"Performance Measures of our model on Testing Data\")\n",
    "print(\"Precison:\", get_precision(test.y_pred, test.target)*100)\n",
    "print(\"Recall:\", get_recall(test.y_pred, test.target)*100)\n",
    "print(\"F1-score:\", f_score(test.y_pred, test.target)*100)\n",
    "print(\"\")"
   ]
  },
  {
   "cell_type": "code",
   "execution_count": 20,
   "metadata": {},
   "outputs": [],
   "source": [
    "# ----- Performing the opposite of case one -----\n",
    "# ----- to see if test case one is doing a better job or this one is\n",
    "\n",
    "\n",
    "train['y_pred'] = train.length.apply(lambda x: 1 if x > average else 0)"
   ]
  },
  {
   "cell_type": "code",
   "execution_count": 21,
   "metadata": {},
   "outputs": [],
   "source": [
    "test['y_pred'] = test.length.apply(lambda x: 1 if x > average else 0)"
   ]
  },
  {
   "cell_type": "code",
   "execution_count": 22,
   "metadata": {},
   "outputs": [
    {
     "name": "stdout",
     "output_type": "stream",
     "text": [
      "\n",
      "Everything above mean length is positive\n",
      "\n",
      "Review Length Baseline Model\n",
      "----------------------------\n",
      "Performance Measures of our model on Training Data\n",
      "Precison: 51.35393057378027\n",
      "Recall: 34.44\n",
      "F1-score: 41.22970837523345\n",
      "\n",
      "------------------------------------------\n",
      "\n",
      "Review Length Baseline Model\n",
      "----------------------------\n",
      "Performance Measures of our model on Testing Data\n",
      "Precison: 49.849510910458996\n",
      "Recall: 31.8\n",
      "F1-score: 38.829735274006055\n",
      "\n"
     ]
    }
   ],
   "source": [
    "print(\"\")\n",
    "print(\"Everything above mean length is positive\")\n",
    "print(\"\")\n",
    "print(\"Review Length Baseline Model\")\n",
    "print(\"----------------------------\")\n",
    "print(\"Performance Measures of our model on Training Data\")\n",
    "print(\"Precison:\", get_precision(train.y_pred, train.target)*100)\n",
    "print(\"Recall:\", get_recall(train.y_pred, train.target)*100)\n",
    "print(\"F1-score:\", f_score(train.y_pred, train.target)*100)\n",
    "print(\"\")\n",
    "print(\"------------------------------------------\")\n",
    "print(\"\")\n",
    "print(\"Review Length Baseline Model\")\n",
    "print(\"----------------------------\")\n",
    "print(\"Performance Measures of our model on Testing Data\")\n",
    "print(\"Precison:\", get_precision(test.y_pred, test.target)*100)\n",
    "print(\"Recall:\", get_recall(test.y_pred, test.target)*100)\n",
    "print(\"F1-score:\", f_score(test.y_pred, test.target)*100)\n",
    "print(\"\")"
   ]
  },
  {
   "cell_type": "code",
   "execution_count": 23,
   "metadata": {},
   "outputs": [
    {
     "data": {
      "text/plain": [
       "0    0\n",
       "1    0\n",
       "2    1\n",
       "3    0\n",
       "4    0\n",
       "5    1\n",
       "6    1\n",
       "7    0\n",
       "8    0\n",
       "9    1\n",
       "Name: y_pred, dtype: int64"
      ]
     },
     "execution_count": 23,
     "metadata": {},
     "output_type": "execute_result"
    }
   ],
   "source": [
    "# ----- Taking an arbitrary value to see how it performs  -----\n",
    "# ----- Taking everything above 750 to be negative -----\n",
    "\n",
    "\n",
    "train['y_pred'] = train.length.apply(lambda x: 0 if x > 750 else 1)\n",
    "train['y_pred'][:10]"
   ]
  },
  {
   "cell_type": "code",
   "execution_count": 24,
   "metadata": {},
   "outputs": [
    {
     "data": {
      "text/plain": [
       "0    1\n",
       "1    1\n",
       "2    0\n",
       "3    0\n",
       "4    0\n",
       "5    0\n",
       "6    1\n",
       "7    0\n",
       "8    1\n",
       "9    1\n",
       "Name: y_pred, dtype: int64"
      ]
     },
     "execution_count": 24,
     "metadata": {},
     "output_type": "execute_result"
    }
   ],
   "source": [
    "test['y_pred'] = test.length.apply(lambda x: 0 if x > 750 else 1)\n",
    "test['y_pred'][:10]"
   ]
  },
  {
   "cell_type": "code",
   "execution_count": 25,
   "metadata": {},
   "outputs": [
    {
     "name": "stdout",
     "output_type": "stream",
     "text": [
      "\n",
      "Everything above review length 750 is negative\n",
      "\n",
      "Review Length Baseline Model\n",
      "----------------------------\n",
      "Performance Measures of our model on Training Data\n",
      "Precison: 51.209416634329315\n",
      "Recall: 31.672\n",
      "F1-score: 39.1379566012555\n",
      "\n",
      "------------------------------------------\n",
      "\n",
      "Review Length Baseline Model\n",
      "----------------------------\n",
      "Performance Measures of our model on Testing Data\n",
      "Precison: 51.707255837308566\n",
      "Recall: 32.952\n",
      "F1-score: 40.25212547639988\n",
      "\n"
     ]
    }
   ],
   "source": [
    "print(\"\")\n",
    "print(\"Everything above review length 750 is negative\")\n",
    "print(\"\")\n",
    "print(\"Review Length Baseline Model\")\n",
    "print(\"----------------------------\")\n",
    "print(\"Performance Measures of our model on Training Data\")\n",
    "print(\"Precison:\", get_precision(train.y_pred, train.target)*100)\n",
    "print(\"Recall:\", get_recall(train.y_pred, train.target)*100)\n",
    "print(\"F1-score:\", f_score(train.y_pred, train.target)*100)\n",
    "print(\"\")\n",
    "print(\"------------------------------------------\")\n",
    "print(\"\")\n",
    "print(\"Review Length Baseline Model\")\n",
    "print(\"----------------------------\")\n",
    "print(\"Performance Measures of our model on Testing Data\")\n",
    "print(\"Precison:\", get_precision(test.y_pred, test.target)*100)\n",
    "print(\"Recall:\", get_recall(test.y_pred, test.target)*100)\n",
    "print(\"F1-score:\", f_score(test.y_pred, test.target)*100)\n",
    "print(\"\")"
   ]
  },
  {
   "cell_type": "markdown",
   "metadata": {},
   "source": [
    "<br>\n",
    "<br>\n",
    "\n",
    "# Naïve Bayes classifier #1\n",
    "\n",
    "### Problem 4"
   ]
  },
  {
   "cell_type": "markdown",
   "metadata": {},
   "source": [
    "Using the built-in Naive Bayes model from sklearn to train a classifier."
   ]
  },
  {
   "cell_type": "code",
   "execution_count": 26,
   "metadata": {},
   "outputs": [],
   "source": [
    "# ----- Importing libraries for this model -----\n",
    "\n",
    "\n",
    "from sklearn.feature_extraction.text import CountVectorizer\n",
    "from sklearn.feature_extraction.text import TfidfTransformer\n",
    "from sklearn.naive_bayes import GaussianNB\n",
    "import nltk"
   ]
  },
  {
   "cell_type": "code",
   "execution_count": 27,
   "metadata": {},
   "outputs": [],
   "source": [
    "# ----- Creating a CountVectorizer object and making vectors of the reviews data ----- \n",
    "\n",
    "\n",
    "Count_vec = CountVectorizer(min_df=2, tokenizer=nltk.word_tokenize)\n",
    "\n",
    "review_counts = Count_vec.fit_transform(train.data)\n",
    "test_counts = Count_vec.transform(test.data)"
   ]
  },
  {
   "cell_type": "code",
   "execution_count": 28,
   "metadata": {},
   "outputs": [
    {
     "data": {
      "text/plain": [
       "(25000, 53838)"
      ]
     },
     "execution_count": 28,
     "metadata": {},
     "output_type": "execute_result"
    }
   ],
   "source": [
    "# ----- Dimensions of raw frequency counts -----\n",
    "\n",
    "review_counts.shape"
   ]
  },
  {
   "cell_type": "code",
   "execution_count": 29,
   "metadata": {},
   "outputs": [],
   "source": [
    "# ----- Convert raw frequency counts into TF-IDF values ----- \n",
    "\n",
    "\n",
    "tfidf_transformer = TfidfTransformer()\n",
    "\n",
    "reviews_tfidf = tfidf_transformer.fit_transform(review_counts)\n",
    "test_tfidf = tfidf_transformer.transform(test_counts)"
   ]
  },
  {
   "cell_type": "code",
   "execution_count": 30,
   "metadata": {},
   "outputs": [
    {
     "data": {
      "text/plain": [
       "(25000, 53838)"
      ]
     },
     "execution_count": 30,
     "metadata": {},
     "output_type": "execute_result"
    }
   ],
   "source": [
    "# ----- Same dimensions, now with tf-idf values instead of raw frequency counts -----\n",
    "\n",
    "reviews_tfidf.shape"
   ]
  },
  {
   "cell_type": "code",
   "execution_count": 31,
   "metadata": {},
   "outputs": [
    {
     "data": {
      "text/plain": [
       "GaussianNB(priors=None, var_smoothing=1e-09)"
      ]
     },
     "execution_count": 31,
     "metadata": {},
     "output_type": "execute_result"
    }
   ],
   "source": [
    "# ----- Training a Gaussian Naive Bayes classifier on Training data ----- \n",
    "\n",
    "G_clf = GaussianNB()\n",
    "\n",
    "# ----- Using the partial_fit method due to memory constraint, fit() can be used to do the same -----\n",
    "\n",
    "G_clf.partial_fit(reviews_tfidf[:5000].toarray(), train.target[:5000], classes=[0,1])"
   ]
  },
  {
   "cell_type": "code",
   "execution_count": 32,
   "metadata": {},
   "outputs": [
    {
     "data": {
      "text/plain": [
       "GaussianNB(priors=None, var_smoothing=1e-09)"
      ]
     },
     "execution_count": 32,
     "metadata": {},
     "output_type": "execute_result"
    }
   ],
   "source": [
    "G_clf.partial_fit(reviews_tfidf[5000:10000].toarray(), train.target[5000:10000])"
   ]
  },
  {
   "cell_type": "code",
   "execution_count": 33,
   "metadata": {},
   "outputs": [
    {
     "data": {
      "text/plain": [
       "GaussianNB(priors=None, var_smoothing=1e-09)"
      ]
     },
     "execution_count": 33,
     "metadata": {},
     "output_type": "execute_result"
    }
   ],
   "source": [
    "G_clf.partial_fit(reviews_tfidf[10000:15000].toarray(), train.target[10000:15000])"
   ]
  },
  {
   "cell_type": "code",
   "execution_count": 34,
   "metadata": {},
   "outputs": [
    {
     "data": {
      "text/plain": [
       "GaussianNB(priors=None, var_smoothing=1e-09)"
      ]
     },
     "execution_count": 34,
     "metadata": {},
     "output_type": "execute_result"
    }
   ],
   "source": [
    "G_clf.partial_fit(reviews_tfidf[15000:20000].toarray(), train.target[15000:20000])"
   ]
  },
  {
   "cell_type": "code",
   "execution_count": 35,
   "metadata": {},
   "outputs": [
    {
     "data": {
      "text/plain": [
       "GaussianNB(priors=None, var_smoothing=1e-09)"
      ]
     },
     "execution_count": 35,
     "metadata": {},
     "output_type": "execute_result"
    }
   ],
   "source": [
    "G_clf.partial_fit(reviews_tfidf[20000:].toarray(), train.target[20000:])"
   ]
  },
  {
   "cell_type": "code",
   "execution_count": 36,
   "metadata": {},
   "outputs": [],
   "source": [
    "# ----- Calculating predicted y values for training data ----- \n",
    "\n",
    "G_y_pred_train = []\n",
    "for i in range(0,25000):\n",
    "    G_y_pred_train.append(int(G_clf.predict(reviews_tfidf[i].toarray())))"
   ]
  },
  {
   "cell_type": "code",
   "execution_count": 37,
   "metadata": {},
   "outputs": [
    {
     "data": {
      "text/plain": [
       "0.94692"
      ]
     },
     "execution_count": 37,
     "metadata": {},
     "output_type": "execute_result"
    }
   ],
   "source": [
    "# ----- Calculating model accuracy using build-in function ----- \n",
    "\n",
    "sklearn.metrics.accuracy_score(train.target.tolist(), G_y_pred_train)"
   ]
  },
  {
   "cell_type": "code",
   "execution_count": 38,
   "metadata": {},
   "outputs": [],
   "source": [
    "# ----- Calculating predicted y values for test data ----- \n",
    "\n",
    "G_y_pred_test = []\n",
    "for i in range(0,25000):\n",
    "    G_y_pred_test.append(int(G_clf.predict(test_tfidf[i].toarray())))"
   ]
  },
  {
   "cell_type": "code",
   "execution_count": 39,
   "metadata": {},
   "outputs": [
    {
     "data": {
      "text/plain": [
       "0.5988"
      ]
     },
     "execution_count": 39,
     "metadata": {},
     "output_type": "execute_result"
    }
   ],
   "source": [
    "# ----- Calculating model accuracy using build-in function ----- \n",
    "\n",
    "sklearn.metrics.accuracy_score(test.target.tolist(), G_y_pred_test)"
   ]
  },
  {
   "cell_type": "code",
   "execution_count": 40,
   "metadata": {},
   "outputs": [
    {
     "name": "stdout",
     "output_type": "stream",
     "text": [
      "\n",
      "Gaussian Naive Bayes Model\n",
      "--------------------------\n",
      "Performance Measures of our model on Training Data:\n",
      "Precison: 99.33763136977832\n",
      "Recall: 89.984\n",
      "F1-score: 94.42975275993787\n",
      "\n",
      "------------------------------------------\n",
      "\n",
      "Gaussian Naive Bayes Model\n",
      "--------------------------\n",
      "Performance Measures of our model on Testing Data:\n",
      "Precison: 62.81386179705333\n",
      "Recall: 48.431999999999995\n",
      "F1-score: 54.693287559851846\n",
      "\n"
     ]
    }
   ],
   "source": [
    "print(\"\")\n",
    "print(\"Gaussian Naive Bayes Model\")\n",
    "print(\"--------------------------\")\n",
    "print(\"Performance Measures of our model on Training Data:\")\n",
    "print(\"Precison:\", get_precision(G_y_pred_train, train.target.tolist())*100)\n",
    "print(\"Recall:\", get_recall(G_y_pred_train, train.target.tolist())*100)\n",
    "print(\"F1-score:\", f_score(G_y_pred_train, train.target.tolist())*100)\n",
    "print(\"\")\n",
    "print(\"------------------------------------------\")\n",
    "print(\"\")\n",
    "print(\"Gaussian Naive Bayes Model\")\n",
    "print(\"--------------------------\")\n",
    "print(\"Performance Measures of our model on Testing Data:\")\n",
    "print(\"Precison:\", get_precision(G_y_pred_test, test.target.tolist())*100)\n",
    "print(\"Recall:\", get_recall(G_y_pred_test, test.target.tolist())*100)\n",
    "print(\"F1-score:\", f_score(G_y_pred_test, test.target.tolist())*100)\n",
    "print(\"\")"
   ]
  },
  {
   "cell_type": "markdown",
   "metadata": {},
   "source": [
    "<br>\n",
    "<br>\n",
    "\n",
    "# Naïve Bayes classifier #2\n",
    "\n",
    "### Problem 5"
   ]
  },
  {
   "cell_type": "markdown",
   "metadata": {},
   "source": [
    "Multinominal Naive Bayes classifier has been implemented here using the sklearn package."
   ]
  },
  {
   "cell_type": "code",
   "execution_count": 41,
   "metadata": {},
   "outputs": [],
   "source": [
    "# ----- Using Multinominal Naive Bayes as the model ----- \n",
    "\n",
    "\n",
    "from sklearn.naive_bayes import MultinomialNB"
   ]
  },
  {
   "cell_type": "code",
   "execution_count": 42,
   "metadata": {},
   "outputs": [
    {
     "data": {
      "text/plain": [
       "MultinomialNB(alpha=1.0, class_prior=None, fit_prior=True)"
      ]
     },
     "execution_count": 42,
     "metadata": {},
     "output_type": "execute_result"
    }
   ],
   "source": [
    "# ----- Training a Multinominal Naive Bayes classifier on Training data ----- \n",
    "\n",
    "M_clf = MultinomialNB()\n",
    "\n",
    "\n",
    "# ----- Using the partial_fit method due to memory constraint, fit() can be used to do the same -----\n",
    "\n",
    "M_clf.partial_fit(reviews_tfidf[:5000].toarray(), train.target[:5000], classes=[0,1])"
   ]
  },
  {
   "cell_type": "code",
   "execution_count": 43,
   "metadata": {},
   "outputs": [
    {
     "data": {
      "text/plain": [
       "MultinomialNB(alpha=1.0, class_prior=None, fit_prior=True)"
      ]
     },
     "execution_count": 43,
     "metadata": {},
     "output_type": "execute_result"
    }
   ],
   "source": [
    "M_clf.partial_fit(reviews_tfidf[5000:10000].toarray(), train.target[5000:10000])"
   ]
  },
  {
   "cell_type": "code",
   "execution_count": 44,
   "metadata": {},
   "outputs": [
    {
     "data": {
      "text/plain": [
       "MultinomialNB(alpha=1.0, class_prior=None, fit_prior=True)"
      ]
     },
     "execution_count": 44,
     "metadata": {},
     "output_type": "execute_result"
    }
   ],
   "source": [
    "M_clf.partial_fit(reviews_tfidf[10000:15000].toarray(), train.target[10000:15000])"
   ]
  },
  {
   "cell_type": "code",
   "execution_count": 45,
   "metadata": {},
   "outputs": [
    {
     "data": {
      "text/plain": [
       "MultinomialNB(alpha=1.0, class_prior=None, fit_prior=True)"
      ]
     },
     "execution_count": 45,
     "metadata": {},
     "output_type": "execute_result"
    }
   ],
   "source": [
    "M_clf.partial_fit(reviews_tfidf[15000:20000].toarray(), train.target[15000:20000])"
   ]
  },
  {
   "cell_type": "code",
   "execution_count": 46,
   "metadata": {},
   "outputs": [
    {
     "data": {
      "text/plain": [
       "MultinomialNB(alpha=1.0, class_prior=None, fit_prior=True)"
      ]
     },
     "execution_count": 46,
     "metadata": {},
     "output_type": "execute_result"
    }
   ],
   "source": [
    "M_clf.partial_fit(reviews_tfidf[20000:].toarray(), train.target[20000:])"
   ]
  },
  {
   "cell_type": "code",
   "execution_count": 47,
   "metadata": {},
   "outputs": [],
   "source": [
    "# ----- Calculating predicted y values for training data ----- \n",
    "\n",
    "M_y_pred_train = []\n",
    "for i in range(0,25000):\n",
    "    M_y_pred_train.append(int(M_clf.predict(reviews_tfidf[i].toarray())))"
   ]
  },
  {
   "cell_type": "code",
   "execution_count": 48,
   "metadata": {},
   "outputs": [
    {
     "data": {
      "text/plain": [
       "0.90688"
      ]
     },
     "execution_count": 48,
     "metadata": {},
     "output_type": "execute_result"
    }
   ],
   "source": [
    "# ----- Calculating model accuracy using build-in function ----- \n",
    "\n",
    "sklearn.metrics.accuracy_score(train.target.tolist(), M_y_pred_train)"
   ]
  },
  {
   "cell_type": "code",
   "execution_count": 49,
   "metadata": {},
   "outputs": [],
   "source": [
    "# ----- Calculating predicted y values for test data ----- \n",
    "\n",
    "M_y_pred_test = []\n",
    "for i in range(0,25000):\n",
    "    M_y_pred_test.append(int(M_clf.predict(test_tfidf[i].toarray())))"
   ]
  },
  {
   "cell_type": "code",
   "execution_count": 50,
   "metadata": {},
   "outputs": [
    {
     "data": {
      "text/plain": [
       "0.83244"
      ]
     },
     "execution_count": 50,
     "metadata": {},
     "output_type": "execute_result"
    }
   ],
   "source": [
    "# ----- Calculating model accuracy using build-in function ----- \n",
    "\n",
    "sklearn.metrics.accuracy_score(test.target.tolist(), M_y_pred_test)"
   ]
  },
  {
   "cell_type": "code",
   "execution_count": 51,
   "metadata": {},
   "outputs": [
    {
     "name": "stdout",
     "output_type": "stream",
     "text": [
      "\n",
      "Multinominal Naive Bayes Model\n",
      "------------------------------\n",
      "Performance Measures of our model on Training Data:\n",
      "Precison: 92.70361041141898\n",
      "Recall: 88.32799999999999\n",
      "F1-score: 90.46292503072512\n",
      "\n",
      "------------------------------------------\n",
      "\n",
      "Multinominal Naive Bayes Model\n",
      "------------------------------\n",
      "Performance Measures of our model on Testing Data:\n",
      "Precison: 87.84953092267055\n",
      "Recall: 77.16\n",
      "F1-score: 82.15852463903913\n",
      "\n"
     ]
    }
   ],
   "source": [
    "print(\"\")\n",
    "print(\"Multinominal Naive Bayes Model\")\n",
    "print(\"------------------------------\")\n",
    "print(\"Performance Measures of our model on Training Data:\")\n",
    "print(\"Precison:\", get_precision(M_y_pred_train, train.target.tolist())*100)\n",
    "print(\"Recall:\", get_recall(M_y_pred_train, train.target.tolist())*100)\n",
    "print(\"F1-score:\", f_score(M_y_pred_train, train.target.tolist())*100)\n",
    "print(\"\")\n",
    "print(\"------------------------------------------\")\n",
    "print(\"\")\n",
    "print(\"Multinominal Naive Bayes Model\")\n",
    "print(\"------------------------------\")\n",
    "print(\"Performance Measures of our model on Testing Data:\")\n",
    "print(\"Precison:\", get_precision(M_y_pred_test, test.target.tolist())*100)\n",
    "print(\"Recall:\", get_recall(M_y_pred_test, test.target.tolist())*100)\n",
    "print(\"F1-score:\", f_score(M_y_pred_test, test.target.tolist())*100)\n",
    "print(\"\")"
   ]
  },
  {
   "cell_type": "markdown",
   "metadata": {},
   "source": [
    "### Problem 6:"
   ]
  },
  {
   "cell_type": "markdown",
   "metadata": {},
   "source": [
    "We can dedude the following from all the four models above:\n",
    "\n",
    "1. MAJORITY CLASS BASELINE MODEL: The Majority Class baseline model is the most naive of them all. And it performs with exactly 50% accuracy no matter which class we choose to be our majority class. \n",
    "\n",
    "\n",
    "2. REVIEW LENGTH BASELINE MODEL: The Review Length model performs mediocrely as all the thresholds used are just possibilities.\n",
    "\n",
    "\n",
    "3. GAUSSIAN NAIVE BAYES CLASSIFIER MODEL: The Gaussian model is more intuitive than the previous two models but doesn't do well with the data as it uses normal distribution. Gaussian Naive Bayes is used in cases when all our features are continuous(continuous data), not in this case. Not good at generalizing. \n",
    "\n",
    "\n",
    "4. MULTINOMINAL NAIVE BAYES CLASSIFIER MODEL: The Multinomial model is best suited for discrete data like our reviews with positive and negative class which don't affect each other in any way. This is the best model of the lot. It does better in the performace measures as well. Good at generalizing."
   ]
  },
  {
   "cell_type": "markdown",
   "metadata": {},
   "source": [
    "\n",
    "<br>\n",
    "<br>\n",
    "\n",
    "# Vector Semantics"
   ]
  },
  {
   "cell_type": "markdown",
   "metadata": {},
   "source": [
    "### Problem 7:\n",
    "\n",
    "Analogy prediction."
   ]
  },
  {
   "cell_type": "code",
   "execution_count": 52,
   "metadata": {},
   "outputs": [
    {
     "data": {
      "text/plain": [
       "['abuja nigeria accra ghana',\n",
       " 'abuja nigeria algiers algeria',\n",
       " 'abuja nigeria amman jordan',\n",
       " 'abuja nigeria ankara turkey',\n",
       " 'abuja nigeria antananarivo madagascar',\n",
       " 'abuja nigeria apia samoa',\n",
       " 'abuja nigeria ashgabat turkmenistan',\n",
       " 'abuja nigeria asmara eritrea',\n",
       " 'abuja nigeria astana kazakhstan',\n",
       " 'abuja nigeria athens greece',\n",
       " 'abuja nigeria baghdad iraq',\n",
       " 'abuja nigeria baku azerbaijan',\n",
       " 'abuja nigeria bamako mali',\n",
       " 'abuja nigeria bangkok thailand',\n",
       " 'abuja nigeria banjul gambia',\n",
       " 'abuja nigeria beijing china',\n",
       " 'abuja nigeria beirut lebanon',\n",
       " 'abuja nigeria belgrade serbia',\n",
       " 'abuja nigeria belmopan belize',\n",
       " 'abuja nigeria berlin germany',\n",
       " 'abuja nigeria bern switzerland',\n",
       " 'abuja nigeria bishkek kyrgyzstan',\n",
       " 'abuja nigeria bratislava slovakia',\n",
       " 'abuja nigeria brussels belgium',\n",
       " 'abuja nigeria bucharest romania',\n",
       " 'abuja nigeria budapest hungary',\n",
       " 'abuja nigeria bujumbura burundi',\n",
       " 'abuja nigeria cairo egypt',\n",
       " 'abuja nigeria canberra australia',\n",
       " 'abuja nigeria caracas venezuela',\n",
       " 'abuja nigeria chisinau moldova',\n",
       " 'abuja nigeria conakry guinea',\n",
       " 'abuja nigeria copenhagen denmark',\n",
       " 'abuja nigeria dakar senegal',\n",
       " 'abuja nigeria damascus syria',\n",
       " 'abuja nigeria dhaka bangladesh',\n",
       " 'abuja nigeria doha qatar',\n",
       " 'abuja nigeria dublin ireland',\n",
       " 'abuja nigeria dushanbe tajikistan',\n",
       " 'accra ghana algiers algeria',\n",
       " 'accra ghana amman jordan',\n",
       " 'accra ghana ankara turkey',\n",
       " 'accra ghana antananarivo madagascar',\n",
       " 'accra ghana apia samoa',\n",
       " 'accra ghana ashgabat turkmenistan',\n",
       " 'accra ghana asmara eritrea',\n",
       " 'accra ghana astana kazakhstan',\n",
       " 'accra ghana athens greece',\n",
       " 'accra ghana baghdad iraq',\n",
       " 'accra ghana baku azerbaijan',\n",
       " 'accra ghana bamako mali',\n",
       " 'accra ghana bangkok thailand',\n",
       " 'accra ghana banjul gambia',\n",
       " 'accra ghana beijing china',\n",
       " 'accra ghana beirut lebanon',\n",
       " 'accra ghana belgrade serbia',\n",
       " 'accra ghana belmopan belize',\n",
       " 'accra ghana berlin germany',\n",
       " 'accra ghana bern switzerland',\n",
       " 'accra ghana bishkek kyrgyzstan',\n",
       " 'accra ghana bratislava slovakia',\n",
       " 'accra ghana brussels belgium',\n",
       " 'accra ghana bucharest romania',\n",
       " 'accra ghana budapest hungary',\n",
       " 'accra ghana bujumbura burundi',\n",
       " 'accra ghana cairo egypt',\n",
       " 'accra ghana canberra australia',\n",
       " 'accra ghana caracas venezuela',\n",
       " 'accra ghana chisinau moldova',\n",
       " 'accra ghana conakry guinea',\n",
       " 'accra ghana copenhagen denmark',\n",
       " 'accra ghana dakar senegal',\n",
       " 'accra ghana damascus syria',\n",
       " 'accra ghana dhaka bangladesh',\n",
       " 'accra ghana doha qatar',\n",
       " 'accra ghana dublin ireland',\n",
       " 'accra ghana dushanbe tajikistan',\n",
       " 'accra ghana funafuti tuvalu',\n",
       " 'algiers algeria amman jordan',\n",
       " 'algiers algeria ankara turkey',\n",
       " 'algiers algeria antananarivo madagascar',\n",
       " 'algiers algeria apia samoa',\n",
       " 'algiers algeria ashgabat turkmenistan',\n",
       " 'algiers algeria asmara eritrea',\n",
       " 'algiers algeria astana kazakhstan',\n",
       " 'algiers algeria athens greece',\n",
       " 'algiers algeria baghdad iraq',\n",
       " 'algiers algeria baku azerbaijan',\n",
       " 'algiers algeria bamako mali',\n",
       " 'algiers algeria bangkok thailand',\n",
       " 'algiers algeria banjul gambia',\n",
       " 'algiers algeria beijing china',\n",
       " 'algiers algeria beirut lebanon',\n",
       " 'algiers algeria belgrade serbia',\n",
       " 'algiers algeria belmopan belize',\n",
       " 'algiers algeria berlin germany',\n",
       " 'algiers algeria bern switzerland',\n",
       " 'algiers algeria bishkek kyrgyzstan',\n",
       " 'algiers algeria bratislava slovakia',\n",
       " 'algiers algeria brussels belgium',\n",
       " 'algiers algeria bucharest romania',\n",
       " 'algiers algeria budapest hungary',\n",
       " 'algiers algeria bujumbura burundi',\n",
       " 'algiers algeria cairo egypt',\n",
       " 'algiers algeria canberra australia',\n",
       " 'algiers algeria caracas venezuela',\n",
       " 'algiers algeria chisinau moldova',\n",
       " 'algiers algeria conakry guinea',\n",
       " 'algiers algeria copenhagen denmark',\n",
       " 'algiers algeria dakar senegal',\n",
       " 'algiers algeria damascus syria',\n",
       " 'algiers algeria dhaka bangladesh',\n",
       " 'algiers algeria doha qatar',\n",
       " 'algiers algeria dublin ireland',\n",
       " 'algiers algeria dushanbe tajikistan',\n",
       " 'algiers algeria funafuti tuvalu',\n",
       " 'algiers algeria gaborone botswana',\n",
       " 'amman jordan ankara turkey',\n",
       " 'amman jordan antananarivo madagascar',\n",
       " 'amman jordan apia samoa',\n",
       " 'amman jordan ashgabat turkmenistan',\n",
       " 'amman jordan asmara eritrea',\n",
       " 'amman jordan astana kazakhstan',\n",
       " 'amman jordan athens greece',\n",
       " 'amman jordan baghdad iraq',\n",
       " 'amman jordan baku azerbaijan',\n",
       " 'amman jordan bamako mali',\n",
       " 'amman jordan bangkok thailand',\n",
       " 'amman jordan banjul gambia',\n",
       " 'amman jordan beijing china',\n",
       " 'amman jordan beirut lebanon',\n",
       " 'amman jordan belgrade serbia',\n",
       " 'amman jordan belmopan belize',\n",
       " 'amman jordan berlin germany',\n",
       " 'amman jordan bern switzerland',\n",
       " 'amman jordan bishkek kyrgyzstan',\n",
       " 'amman jordan bratislava slovakia',\n",
       " 'amman jordan brussels belgium',\n",
       " 'amman jordan bucharest romania',\n",
       " 'amman jordan budapest hungary',\n",
       " 'amman jordan bujumbura burundi',\n",
       " 'amman jordan cairo egypt',\n",
       " 'amman jordan canberra australia',\n",
       " 'amman jordan caracas venezuela',\n",
       " 'amman jordan chisinau moldova',\n",
       " 'amman jordan conakry guinea',\n",
       " 'amman jordan copenhagen denmark',\n",
       " 'amman jordan dakar senegal',\n",
       " 'amman jordan damascus syria',\n",
       " 'amman jordan dhaka bangladesh',\n",
       " 'amman jordan doha qatar',\n",
       " 'amman jordan dublin ireland',\n",
       " 'amman jordan dushanbe tajikistan',\n",
       " 'amman jordan funafuti tuvalu',\n",
       " 'amman jordan gaborone botswana',\n",
       " 'amman jordan georgetown guyana',\n",
       " 'ankara turkey antananarivo madagascar',\n",
       " 'ankara turkey apia samoa',\n",
       " 'ankara turkey ashgabat turkmenistan',\n",
       " 'ankara turkey asmara eritrea',\n",
       " 'ankara turkey astana kazakhstan',\n",
       " 'ankara turkey athens greece',\n",
       " 'ankara turkey baghdad iraq',\n",
       " 'ankara turkey baku azerbaijan',\n",
       " 'ankara turkey bamako mali',\n",
       " 'ankara turkey bangkok thailand',\n",
       " 'ankara turkey banjul gambia',\n",
       " 'ankara turkey beijing china',\n",
       " 'ankara turkey beirut lebanon',\n",
       " 'ankara turkey belgrade serbia',\n",
       " 'ankara turkey belmopan belize',\n",
       " 'ankara turkey berlin germany',\n",
       " 'ankara turkey bern switzerland',\n",
       " 'ankara turkey bishkek kyrgyzstan',\n",
       " 'ankara turkey bratislava slovakia',\n",
       " 'ankara turkey brussels belgium',\n",
       " 'ankara turkey bucharest romania',\n",
       " 'ankara turkey budapest hungary',\n",
       " 'ankara turkey bujumbura burundi',\n",
       " 'ankara turkey cairo egypt',\n",
       " 'ankara turkey canberra australia',\n",
       " 'ankara turkey caracas venezuela',\n",
       " 'ankara turkey chisinau moldova',\n",
       " 'ankara turkey conakry guinea',\n",
       " 'ankara turkey copenhagen denmark',\n",
       " 'ankara turkey dakar senegal',\n",
       " 'ankara turkey damascus syria',\n",
       " 'ankara turkey dhaka bangladesh',\n",
       " 'ankara turkey doha qatar',\n",
       " 'ankara turkey dublin ireland',\n",
       " 'ankara turkey dushanbe tajikistan',\n",
       " 'ankara turkey funafuti tuvalu',\n",
       " 'ankara turkey gaborone botswana',\n",
       " 'ankara turkey georgetown guyana',\n",
       " 'ankara turkey hanoi vietnam',\n",
       " 'antananarivo madagascar apia samoa',\n",
       " 'antananarivo madagascar ashgabat turkmenistan',\n",
       " 'antananarivo madagascar asmara eritrea',\n",
       " 'antananarivo madagascar astana kazakhstan',\n",
       " 'antananarivo madagascar athens greece',\n",
       " 'antananarivo madagascar baghdad iraq',\n",
       " 'antananarivo madagascar baku azerbaijan',\n",
       " 'antananarivo madagascar bamako mali',\n",
       " 'antananarivo madagascar bangkok thailand',\n",
       " 'antananarivo madagascar banjul gambia',\n",
       " 'antananarivo madagascar beijing china',\n",
       " 'antananarivo madagascar beirut lebanon',\n",
       " 'antananarivo madagascar belgrade serbia',\n",
       " 'antananarivo madagascar belmopan belize',\n",
       " 'antananarivo madagascar berlin germany',\n",
       " 'antananarivo madagascar bern switzerland',\n",
       " 'antananarivo madagascar bishkek kyrgyzstan',\n",
       " 'antananarivo madagascar bratislava slovakia',\n",
       " 'antananarivo madagascar brussels belgium',\n",
       " 'antananarivo madagascar bucharest romania',\n",
       " 'antananarivo madagascar budapest hungary',\n",
       " 'antananarivo madagascar bujumbura burundi',\n",
       " 'antananarivo madagascar cairo egypt',\n",
       " 'antananarivo madagascar canberra australia',\n",
       " 'antananarivo madagascar caracas venezuela',\n",
       " 'antananarivo madagascar chisinau moldova',\n",
       " 'antananarivo madagascar conakry guinea',\n",
       " 'antananarivo madagascar copenhagen denmark',\n",
       " 'antananarivo madagascar dakar senegal',\n",
       " 'antananarivo madagascar damascus syria',\n",
       " 'antananarivo madagascar dhaka bangladesh',\n",
       " 'antananarivo madagascar doha qatar',\n",
       " 'antananarivo madagascar dublin ireland',\n",
       " 'antananarivo madagascar dushanbe tajikistan',\n",
       " 'antananarivo madagascar funafuti tuvalu',\n",
       " 'antananarivo madagascar gaborone botswana',\n",
       " 'antananarivo madagascar georgetown guyana',\n",
       " 'antananarivo madagascar hanoi vietnam',\n",
       " 'antananarivo madagascar harare zimbabwe',\n",
       " 'apia samoa ashgabat turkmenistan',\n",
       " 'apia samoa asmara eritrea',\n",
       " 'apia samoa astana kazakhstan',\n",
       " 'apia samoa athens greece',\n",
       " 'apia samoa baghdad iraq',\n",
       " 'apia samoa baku azerbaijan',\n",
       " 'apia samoa bamako mali',\n",
       " 'apia samoa bangkok thailand',\n",
       " 'apia samoa banjul gambia',\n",
       " 'apia samoa beijing china',\n",
       " 'apia samoa beirut lebanon',\n",
       " 'apia samoa belgrade serbia',\n",
       " 'apia samoa belmopan belize',\n",
       " 'apia samoa berlin germany',\n",
       " 'apia samoa bern switzerland',\n",
       " 'apia samoa bishkek kyrgyzstan',\n",
       " 'apia samoa bratislava slovakia',\n",
       " 'apia samoa brussels belgium',\n",
       " 'apia samoa bucharest romania',\n",
       " 'apia samoa budapest hungary',\n",
       " 'apia samoa bujumbura burundi',\n",
       " 'apia samoa cairo egypt',\n",
       " 'apia samoa canberra australia',\n",
       " 'apia samoa caracas venezuela',\n",
       " 'apia samoa chisinau moldova',\n",
       " 'apia samoa conakry guinea',\n",
       " 'apia samoa copenhagen denmark',\n",
       " 'apia samoa dakar senegal',\n",
       " 'apia samoa damascus syria',\n",
       " 'apia samoa dhaka bangladesh',\n",
       " 'apia samoa doha qatar',\n",
       " 'apia samoa dublin ireland',\n",
       " 'apia samoa dushanbe tajikistan',\n",
       " 'apia samoa funafuti tuvalu',\n",
       " 'apia samoa gaborone botswana',\n",
       " 'apia samoa georgetown guyana',\n",
       " 'apia samoa hanoi vietnam',\n",
       " 'apia samoa harare zimbabwe',\n",
       " 'apia samoa havana cuba',\n",
       " 'ashgabat turkmenistan asmara eritrea',\n",
       " 'ashgabat turkmenistan astana kazakhstan',\n",
       " 'ashgabat turkmenistan athens greece',\n",
       " 'ashgabat turkmenistan baghdad iraq',\n",
       " 'ashgabat turkmenistan baku azerbaijan',\n",
       " 'ashgabat turkmenistan bamako mali',\n",
       " 'ashgabat turkmenistan bangkok thailand',\n",
       " 'ashgabat turkmenistan banjul gambia',\n",
       " 'ashgabat turkmenistan beijing china',\n",
       " 'ashgabat turkmenistan beirut lebanon',\n",
       " 'ashgabat turkmenistan belgrade serbia',\n",
       " 'ashgabat turkmenistan belmopan belize',\n",
       " 'ashgabat turkmenistan berlin germany',\n",
       " 'ashgabat turkmenistan bern switzerland',\n",
       " 'ashgabat turkmenistan bishkek kyrgyzstan',\n",
       " 'ashgabat turkmenistan bratislava slovakia',\n",
       " 'ashgabat turkmenistan brussels belgium',\n",
       " 'ashgabat turkmenistan bucharest romania',\n",
       " 'ashgabat turkmenistan budapest hungary',\n",
       " 'ashgabat turkmenistan bujumbura burundi',\n",
       " 'ashgabat turkmenistan cairo egypt',\n",
       " 'ashgabat turkmenistan canberra australia',\n",
       " 'ashgabat turkmenistan caracas venezuela',\n",
       " 'ashgabat turkmenistan chisinau moldova',\n",
       " 'ashgabat turkmenistan conakry guinea',\n",
       " 'ashgabat turkmenistan copenhagen denmark',\n",
       " 'ashgabat turkmenistan dakar senegal',\n",
       " 'ashgabat turkmenistan damascus syria',\n",
       " 'ashgabat turkmenistan dhaka bangladesh',\n",
       " 'ashgabat turkmenistan doha qatar',\n",
       " 'ashgabat turkmenistan dublin ireland',\n",
       " 'ashgabat turkmenistan dushanbe tajikistan',\n",
       " 'ashgabat turkmenistan funafuti tuvalu',\n",
       " 'ashgabat turkmenistan gaborone botswana',\n",
       " 'ashgabat turkmenistan georgetown guyana',\n",
       " 'ashgabat turkmenistan hanoi vietnam',\n",
       " 'ashgabat turkmenistan harare zimbabwe',\n",
       " 'ashgabat turkmenistan havana cuba',\n",
       " 'ashgabat turkmenistan helsinki finland',\n",
       " 'asmara eritrea astana kazakhstan',\n",
       " 'asmara eritrea athens greece',\n",
       " 'asmara eritrea baghdad iraq',\n",
       " 'asmara eritrea baku azerbaijan',\n",
       " 'asmara eritrea bamako mali',\n",
       " 'asmara eritrea bangkok thailand',\n",
       " 'asmara eritrea banjul gambia',\n",
       " 'asmara eritrea beijing china',\n",
       " 'asmara eritrea beirut lebanon',\n",
       " 'asmara eritrea belgrade serbia',\n",
       " 'asmara eritrea belmopan belize',\n",
       " 'asmara eritrea berlin germany',\n",
       " 'asmara eritrea bern switzerland',\n",
       " 'asmara eritrea bishkek kyrgyzstan',\n",
       " 'asmara eritrea bratislava slovakia',\n",
       " 'asmara eritrea brussels belgium',\n",
       " 'asmara eritrea bucharest romania',\n",
       " 'asmara eritrea budapest hungary',\n",
       " 'asmara eritrea bujumbura burundi',\n",
       " 'asmara eritrea cairo egypt',\n",
       " 'asmara eritrea canberra australia',\n",
       " 'asmara eritrea caracas venezuela',\n",
       " 'asmara eritrea chisinau moldova',\n",
       " 'asmara eritrea conakry guinea',\n",
       " 'asmara eritrea copenhagen denmark',\n",
       " 'asmara eritrea dakar senegal',\n",
       " 'asmara eritrea damascus syria',\n",
       " 'asmara eritrea dhaka bangladesh',\n",
       " 'asmara eritrea doha qatar',\n",
       " 'asmara eritrea dublin ireland',\n",
       " 'asmara eritrea dushanbe tajikistan',\n",
       " 'asmara eritrea funafuti tuvalu',\n",
       " 'asmara eritrea gaborone botswana',\n",
       " 'asmara eritrea georgetown guyana',\n",
       " 'asmara eritrea hanoi vietnam',\n",
       " 'asmara eritrea harare zimbabwe',\n",
       " 'asmara eritrea havana cuba',\n",
       " 'asmara eritrea helsinki finland',\n",
       " 'asmara eritrea islamabad pakistan',\n",
       " 'astana kazakhstan athens greece',\n",
       " 'astana kazakhstan baghdad iraq',\n",
       " 'astana kazakhstan baku azerbaijan',\n",
       " 'astana kazakhstan bamako mali',\n",
       " 'astana kazakhstan bangkok thailand',\n",
       " 'astana kazakhstan banjul gambia',\n",
       " 'astana kazakhstan beijing china',\n",
       " 'astana kazakhstan beirut lebanon',\n",
       " 'astana kazakhstan belgrade serbia',\n",
       " 'astana kazakhstan belmopan belize',\n",
       " 'astana kazakhstan berlin germany',\n",
       " 'astana kazakhstan bern switzerland',\n",
       " 'astana kazakhstan bishkek kyrgyzstan',\n",
       " 'astana kazakhstan bratislava slovakia',\n",
       " 'astana kazakhstan brussels belgium',\n",
       " 'astana kazakhstan bucharest romania',\n",
       " 'astana kazakhstan budapest hungary',\n",
       " 'astana kazakhstan bujumbura burundi',\n",
       " 'astana kazakhstan cairo egypt',\n",
       " 'astana kazakhstan canberra australia',\n",
       " 'astana kazakhstan caracas venezuela',\n",
       " 'astana kazakhstan chisinau moldova',\n",
       " 'astana kazakhstan conakry guinea',\n",
       " 'astana kazakhstan copenhagen denmark',\n",
       " 'astana kazakhstan dakar senegal',\n",
       " 'astana kazakhstan damascus syria',\n",
       " 'astana kazakhstan dhaka bangladesh',\n",
       " 'astana kazakhstan doha qatar',\n",
       " 'astana kazakhstan dublin ireland',\n",
       " 'astana kazakhstan dushanbe tajikistan',\n",
       " 'astana kazakhstan funafuti tuvalu',\n",
       " 'astana kazakhstan gaborone botswana',\n",
       " 'astana kazakhstan georgetown guyana',\n",
       " 'astana kazakhstan hanoi vietnam',\n",
       " 'astana kazakhstan harare zimbabwe',\n",
       " 'astana kazakhstan havana cuba',\n",
       " 'astana kazakhstan helsinki finland',\n",
       " 'astana kazakhstan islamabad pakistan',\n",
       " 'astana kazakhstan jakarta indonesia',\n",
       " 'athens greece baghdad iraq',\n",
       " 'athens greece baku azerbaijan',\n",
       " 'athens greece bamako mali',\n",
       " 'athens greece bangkok thailand',\n",
       " 'athens greece banjul gambia',\n",
       " 'athens greece beijing china',\n",
       " 'athens greece beirut lebanon',\n",
       " 'athens greece belgrade serbia',\n",
       " 'athens greece belmopan belize',\n",
       " 'athens greece berlin germany',\n",
       " 'athens greece bern switzerland',\n",
       " 'athens greece bishkek kyrgyzstan',\n",
       " 'athens greece bratislava slovakia',\n",
       " 'athens greece brussels belgium',\n",
       " 'athens greece bucharest romania',\n",
       " 'athens greece budapest hungary',\n",
       " 'athens greece bujumbura burundi',\n",
       " 'athens greece cairo egypt',\n",
       " 'athens greece canberra australia',\n",
       " 'athens greece caracas venezuela',\n",
       " 'athens greece chisinau moldova',\n",
       " 'athens greece conakry guinea',\n",
       " 'athens greece copenhagen denmark',\n",
       " 'athens greece dakar senegal',\n",
       " 'athens greece damascus syria',\n",
       " 'athens greece dhaka bangladesh',\n",
       " 'athens greece doha qatar',\n",
       " 'athens greece dublin ireland',\n",
       " 'athens greece dushanbe tajikistan',\n",
       " 'athens greece funafuti tuvalu',\n",
       " 'athens greece gaborone botswana',\n",
       " 'athens greece georgetown guyana',\n",
       " 'athens greece hanoi vietnam',\n",
       " 'athens greece harare zimbabwe',\n",
       " 'athens greece havana cuba',\n",
       " 'athens greece helsinki finland',\n",
       " 'athens greece islamabad pakistan',\n",
       " 'athens greece jakarta indonesia',\n",
       " 'athens greece kabul afghanistan',\n",
       " 'baghdad iraq baku azerbaijan',\n",
       " 'baghdad iraq bamako mali',\n",
       " 'baghdad iraq bangkok thailand',\n",
       " 'baghdad iraq banjul gambia',\n",
       " 'baghdad iraq beijing china',\n",
       " 'baghdad iraq beirut lebanon',\n",
       " 'baghdad iraq belgrade serbia',\n",
       " 'baghdad iraq belmopan belize',\n",
       " 'baghdad iraq berlin germany',\n",
       " 'baghdad iraq bern switzerland',\n",
       " 'baghdad iraq bishkek kyrgyzstan',\n",
       " 'baghdad iraq bratislava slovakia',\n",
       " 'baghdad iraq brussels belgium',\n",
       " 'baghdad iraq bucharest romania',\n",
       " 'baghdad iraq budapest hungary',\n",
       " 'baghdad iraq bujumbura burundi',\n",
       " 'baghdad iraq cairo egypt',\n",
       " 'baghdad iraq canberra australia',\n",
       " 'baghdad iraq caracas venezuela',\n",
       " 'baghdad iraq chisinau moldova',\n",
       " 'baghdad iraq conakry guinea',\n",
       " 'baghdad iraq copenhagen denmark',\n",
       " 'baghdad iraq dakar senegal',\n",
       " 'baghdad iraq damascus syria',\n",
       " 'baghdad iraq dhaka bangladesh',\n",
       " 'baghdad iraq doha qatar',\n",
       " 'baghdad iraq dublin ireland',\n",
       " 'baghdad iraq dushanbe tajikistan',\n",
       " 'baghdad iraq funafuti tuvalu',\n",
       " 'baghdad iraq gaborone botswana',\n",
       " 'baghdad iraq georgetown guyana',\n",
       " 'baghdad iraq hanoi vietnam',\n",
       " 'baghdad iraq harare zimbabwe',\n",
       " 'baghdad iraq havana cuba',\n",
       " 'baghdad iraq helsinki finland',\n",
       " 'baghdad iraq islamabad pakistan',\n",
       " 'baghdad iraq jakarta indonesia',\n",
       " 'baghdad iraq kabul afghanistan',\n",
       " 'baghdad iraq kampala uganda',\n",
       " 'baku azerbaijan bamako mali',\n",
       " 'baku azerbaijan bangkok thailand',\n",
       " 'baku azerbaijan banjul gambia',\n",
       " 'baku azerbaijan beijing china',\n",
       " 'baku azerbaijan beirut lebanon',\n",
       " 'baku azerbaijan belgrade serbia',\n",
       " 'baku azerbaijan belmopan belize',\n",
       " 'baku azerbaijan berlin germany',\n",
       " 'baku azerbaijan bern switzerland',\n",
       " 'baku azerbaijan bishkek kyrgyzstan',\n",
       " 'baku azerbaijan bratislava slovakia',\n",
       " 'baku azerbaijan brussels belgium',\n",
       " 'baku azerbaijan bucharest romania',\n",
       " 'baku azerbaijan budapest hungary',\n",
       " 'baku azerbaijan bujumbura burundi',\n",
       " 'baku azerbaijan cairo egypt',\n",
       " 'baku azerbaijan canberra australia',\n",
       " 'baku azerbaijan caracas venezuela',\n",
       " 'baku azerbaijan chisinau moldova',\n",
       " 'baku azerbaijan conakry guinea',\n",
       " 'baku azerbaijan copenhagen denmark',\n",
       " 'baku azerbaijan dakar senegal',\n",
       " 'baku azerbaijan damascus syria',\n",
       " 'baku azerbaijan dhaka bangladesh',\n",
       " 'baku azerbaijan doha qatar',\n",
       " 'baku azerbaijan dublin ireland',\n",
       " 'baku azerbaijan dushanbe tajikistan',\n",
       " 'baku azerbaijan funafuti tuvalu',\n",
       " 'baku azerbaijan gaborone botswana',\n",
       " 'baku azerbaijan georgetown guyana',\n",
       " 'baku azerbaijan hanoi vietnam',\n",
       " 'baku azerbaijan harare zimbabwe',\n",
       " 'baku azerbaijan havana cuba',\n",
       " 'baku azerbaijan helsinki finland',\n",
       " 'baku azerbaijan islamabad pakistan',\n",
       " 'baku azerbaijan jakarta indonesia',\n",
       " 'baku azerbaijan kabul afghanistan',\n",
       " 'baku azerbaijan kampala uganda',\n",
       " 'baku azerbaijan kathmandu nepal',\n",
       " 'bamako mali bangkok thailand',\n",
       " 'bamako mali banjul gambia',\n",
       " 'bamako mali beijing china',\n",
       " 'bamako mali beirut lebanon',\n",
       " 'bamako mali belgrade serbia',\n",
       " 'bamako mali belmopan belize',\n",
       " 'bamako mali berlin germany',\n",
       " 'bamako mali bern switzerland',\n",
       " 'bamako mali bishkek kyrgyzstan',\n",
       " 'bamako mali bratislava slovakia',\n",
       " 'bamako mali brussels belgium',\n",
       " 'bamako mali bucharest romania',\n",
       " 'bamako mali budapest hungary',\n",
       " 'bamako mali bujumbura burundi',\n",
       " 'bamako mali cairo egypt',\n",
       " 'bamako mali canberra australia',\n",
       " 'bamako mali caracas venezuela',\n",
       " 'bamako mali chisinau moldova',\n",
       " 'bamako mali conakry guinea',\n",
       " 'bamako mali copenhagen denmark',\n",
       " 'bamako mali dakar senegal',\n",
       " 'bamako mali damascus syria',\n",
       " 'bamako mali dhaka bangladesh',\n",
       " 'bamako mali doha qatar',\n",
       " 'bamako mali dublin ireland',\n",
       " 'bamako mali dushanbe tajikistan',\n",
       " 'bamako mali funafuti tuvalu',\n",
       " 'bamako mali gaborone botswana',\n",
       " 'bamako mali georgetown guyana',\n",
       " 'bamako mali hanoi vietnam',\n",
       " 'bamako mali harare zimbabwe',\n",
       " 'bamako mali havana cuba',\n",
       " 'bamako mali helsinki finland',\n",
       " 'bamako mali islamabad pakistan',\n",
       " 'bamako mali jakarta indonesia',\n",
       " 'bamako mali kabul afghanistan',\n",
       " 'bamako mali kampala uganda',\n",
       " 'bamako mali kathmandu nepal',\n",
       " 'bamako mali khartoum sudan',\n",
       " 'bangkok thailand banjul gambia',\n",
       " 'bangkok thailand beijing china',\n",
       " 'bangkok thailand beirut lebanon',\n",
       " 'bangkok thailand belgrade serbia',\n",
       " 'bangkok thailand belmopan belize',\n",
       " 'bangkok thailand berlin germany',\n",
       " 'bangkok thailand bern switzerland',\n",
       " 'bangkok thailand bishkek kyrgyzstan',\n",
       " 'bangkok thailand bratislava slovakia',\n",
       " 'bangkok thailand brussels belgium',\n",
       " 'bangkok thailand bucharest romania',\n",
       " 'bangkok thailand budapest hungary',\n",
       " 'bangkok thailand bujumbura burundi',\n",
       " 'bangkok thailand cairo egypt',\n",
       " 'bangkok thailand canberra australia',\n",
       " 'bangkok thailand caracas venezuela',\n",
       " 'bangkok thailand chisinau moldova',\n",
       " 'bangkok thailand conakry guinea',\n",
       " 'bangkok thailand copenhagen denmark',\n",
       " 'bangkok thailand dakar senegal',\n",
       " 'bangkok thailand damascus syria',\n",
       " 'bangkok thailand dhaka bangladesh',\n",
       " 'bangkok thailand doha qatar',\n",
       " 'bangkok thailand dublin ireland',\n",
       " 'bangkok thailand dushanbe tajikistan',\n",
       " 'bangkok thailand funafuti tuvalu',\n",
       " 'bangkok thailand gaborone botswana',\n",
       " 'bangkok thailand georgetown guyana',\n",
       " 'bangkok thailand hanoi vietnam',\n",
       " 'bangkok thailand harare zimbabwe',\n",
       " 'bangkok thailand havana cuba',\n",
       " 'bangkok thailand helsinki finland',\n",
       " 'bangkok thailand islamabad pakistan',\n",
       " 'bangkok thailand jakarta indonesia',\n",
       " 'bangkok thailand kabul afghanistan',\n",
       " 'bangkok thailand kampala uganda',\n",
       " 'bangkok thailand kathmandu nepal',\n",
       " 'bangkok thailand khartoum sudan',\n",
       " 'bangkok thailand kiev ukraine',\n",
       " 'banjul gambia beijing china',\n",
       " 'banjul gambia beirut lebanon',\n",
       " 'banjul gambia belgrade serbia',\n",
       " 'banjul gambia belmopan belize',\n",
       " 'banjul gambia berlin germany',\n",
       " 'banjul gambia bern switzerland',\n",
       " 'banjul gambia bishkek kyrgyzstan',\n",
       " 'banjul gambia bratislava slovakia',\n",
       " 'banjul gambia brussels belgium',\n",
       " 'banjul gambia bucharest romania',\n",
       " 'banjul gambia budapest hungary',\n",
       " 'banjul gambia bujumbura burundi',\n",
       " 'banjul gambia cairo egypt',\n",
       " 'banjul gambia canberra australia',\n",
       " 'banjul gambia caracas venezuela',\n",
       " 'banjul gambia chisinau moldova',\n",
       " 'banjul gambia conakry guinea',\n",
       " 'banjul gambia copenhagen denmark',\n",
       " 'banjul gambia dakar senegal',\n",
       " 'banjul gambia damascus syria',\n",
       " 'banjul gambia dhaka bangladesh',\n",
       " 'banjul gambia doha qatar',\n",
       " 'banjul gambia dublin ireland',\n",
       " 'banjul gambia dushanbe tajikistan',\n",
       " 'banjul gambia funafuti tuvalu',\n",
       " 'banjul gambia gaborone botswana',\n",
       " 'banjul gambia georgetown guyana',\n",
       " 'banjul gambia hanoi vietnam',\n",
       " 'banjul gambia harare zimbabwe',\n",
       " 'banjul gambia havana cuba',\n",
       " 'banjul gambia helsinki finland',\n",
       " 'banjul gambia islamabad pakistan',\n",
       " 'banjul gambia jakarta indonesia',\n",
       " 'banjul gambia kabul afghanistan',\n",
       " 'banjul gambia kampala uganda',\n",
       " 'banjul gambia kathmandu nepal',\n",
       " 'banjul gambia khartoum sudan',\n",
       " 'banjul gambia kiev ukraine',\n",
       " 'banjul gambia kigali rwanda',\n",
       " 'beijing china beirut lebanon',\n",
       " 'beijing china belgrade serbia',\n",
       " 'beijing china belmopan belize',\n",
       " 'beijing china berlin germany',\n",
       " 'beijing china bern switzerland',\n",
       " 'beijing china bishkek kyrgyzstan',\n",
       " 'beijing china bratislava slovakia',\n",
       " 'beijing china brussels belgium',\n",
       " 'beijing china bucharest romania',\n",
       " 'beijing china budapest hungary',\n",
       " 'beijing china bujumbura burundi',\n",
       " 'beijing china cairo egypt',\n",
       " 'beijing china canberra australia',\n",
       " 'beijing china caracas venezuela',\n",
       " 'beijing china chisinau moldova',\n",
       " 'beijing china conakry guinea',\n",
       " 'beijing china copenhagen denmark',\n",
       " 'beijing china dakar senegal',\n",
       " 'beijing china damascus syria',\n",
       " 'beijing china dhaka bangladesh',\n",
       " 'beijing china doha qatar',\n",
       " 'beijing china dublin ireland',\n",
       " 'beijing china dushanbe tajikistan',\n",
       " 'beijing china funafuti tuvalu',\n",
       " 'beijing china gaborone botswana',\n",
       " 'beijing china georgetown guyana',\n",
       " 'beijing china hanoi vietnam',\n",
       " 'beijing china harare zimbabwe',\n",
       " 'beijing china havana cuba',\n",
       " 'beijing china helsinki finland',\n",
       " 'beijing china islamabad pakistan',\n",
       " 'beijing china jakarta indonesia',\n",
       " 'beijing china kabul afghanistan',\n",
       " 'beijing china kampala uganda',\n",
       " 'beijing china kathmandu nepal',\n",
       " 'beijing china khartoum sudan',\n",
       " 'beijing china kiev ukraine',\n",
       " 'beijing china kigali rwanda',\n",
       " 'beijing china kingston jamaica',\n",
       " 'beirut lebanon belgrade serbia',\n",
       " 'beirut lebanon belmopan belize',\n",
       " 'beirut lebanon berlin germany',\n",
       " 'beirut lebanon bern switzerland',\n",
       " 'beirut lebanon bishkek kyrgyzstan',\n",
       " 'beirut lebanon bratislava slovakia',\n",
       " 'beirut lebanon brussels belgium',\n",
       " 'beirut lebanon bucharest romania',\n",
       " 'beirut lebanon budapest hungary',\n",
       " 'beirut lebanon bujumbura burundi',\n",
       " 'beirut lebanon cairo egypt',\n",
       " 'beirut lebanon canberra australia',\n",
       " 'beirut lebanon caracas venezuela',\n",
       " 'beirut lebanon chisinau moldova',\n",
       " 'beirut lebanon conakry guinea',\n",
       " 'beirut lebanon copenhagen denmark',\n",
       " 'beirut lebanon dakar senegal',\n",
       " 'beirut lebanon damascus syria',\n",
       " 'beirut lebanon dhaka bangladesh',\n",
       " 'beirut lebanon doha qatar',\n",
       " 'beirut lebanon dublin ireland',\n",
       " 'beirut lebanon dushanbe tajikistan',\n",
       " 'beirut lebanon funafuti tuvalu',\n",
       " 'beirut lebanon gaborone botswana',\n",
       " 'beirut lebanon georgetown guyana',\n",
       " 'beirut lebanon hanoi vietnam',\n",
       " 'beirut lebanon harare zimbabwe',\n",
       " 'beirut lebanon havana cuba',\n",
       " 'beirut lebanon helsinki finland',\n",
       " 'beirut lebanon islamabad pakistan',\n",
       " 'beirut lebanon jakarta indonesia',\n",
       " 'beirut lebanon kabul afghanistan',\n",
       " 'beirut lebanon kampala uganda',\n",
       " 'beirut lebanon kathmandu nepal',\n",
       " 'beirut lebanon khartoum sudan',\n",
       " 'beirut lebanon kiev ukraine',\n",
       " 'beirut lebanon kigali rwanda',\n",
       " 'beirut lebanon kingston jamaica',\n",
       " 'beirut lebanon libreville gabon',\n",
       " 'belgrade serbia belmopan belize',\n",
       " 'belgrade serbia berlin germany',\n",
       " 'belgrade serbia bern switzerland',\n",
       " 'belgrade serbia bishkek kyrgyzstan',\n",
       " 'belgrade serbia bratislava slovakia',\n",
       " 'belgrade serbia brussels belgium',\n",
       " 'belgrade serbia bucharest romania',\n",
       " 'belgrade serbia budapest hungary',\n",
       " 'belgrade serbia bujumbura burundi',\n",
       " 'belgrade serbia cairo egypt',\n",
       " 'belgrade serbia canberra australia',\n",
       " 'belgrade serbia caracas venezuela',\n",
       " 'belgrade serbia chisinau moldova',\n",
       " 'belgrade serbia conakry guinea',\n",
       " 'belgrade serbia copenhagen denmark',\n",
       " 'belgrade serbia dakar senegal',\n",
       " 'belgrade serbia damascus syria',\n",
       " 'belgrade serbia dhaka bangladesh',\n",
       " 'belgrade serbia doha qatar',\n",
       " 'belgrade serbia dublin ireland',\n",
       " 'belgrade serbia dushanbe tajikistan',\n",
       " 'belgrade serbia funafuti tuvalu',\n",
       " 'belgrade serbia gaborone botswana',\n",
       " 'belgrade serbia georgetown guyana',\n",
       " 'belgrade serbia hanoi vietnam',\n",
       " 'belgrade serbia harare zimbabwe',\n",
       " 'belgrade serbia havana cuba',\n",
       " 'belgrade serbia helsinki finland',\n",
       " 'belgrade serbia islamabad pakistan',\n",
       " 'belgrade serbia jakarta indonesia',\n",
       " 'belgrade serbia kabul afghanistan',\n",
       " 'belgrade serbia kampala uganda',\n",
       " 'belgrade serbia kathmandu nepal',\n",
       " 'belgrade serbia khartoum sudan',\n",
       " 'belgrade serbia kiev ukraine',\n",
       " 'belgrade serbia kigali rwanda',\n",
       " 'belgrade serbia kingston jamaica',\n",
       " 'belgrade serbia libreville gabon',\n",
       " 'belgrade serbia lilongwe malawi',\n",
       " 'belmopan belize berlin germany',\n",
       " 'belmopan belize bern switzerland',\n",
       " 'belmopan belize bishkek kyrgyzstan',\n",
       " 'belmopan belize bratislava slovakia',\n",
       " 'belmopan belize brussels belgium',\n",
       " 'belmopan belize bucharest romania',\n",
       " 'belmopan belize budapest hungary',\n",
       " 'belmopan belize bujumbura burundi',\n",
       " 'belmopan belize cairo egypt',\n",
       " 'belmopan belize canberra australia',\n",
       " 'belmopan belize caracas venezuela',\n",
       " 'belmopan belize chisinau moldova',\n",
       " 'belmopan belize conakry guinea',\n",
       " 'belmopan belize copenhagen denmark',\n",
       " 'belmopan belize dakar senegal',\n",
       " 'belmopan belize damascus syria',\n",
       " 'belmopan belize dhaka bangladesh',\n",
       " 'belmopan belize doha qatar',\n",
       " 'belmopan belize dublin ireland',\n",
       " 'belmopan belize dushanbe tajikistan',\n",
       " 'belmopan belize funafuti tuvalu',\n",
       " 'belmopan belize gaborone botswana',\n",
       " 'belmopan belize georgetown guyana',\n",
       " 'belmopan belize hanoi vietnam',\n",
       " 'belmopan belize harare zimbabwe',\n",
       " 'belmopan belize havana cuba',\n",
       " 'belmopan belize helsinki finland',\n",
       " 'belmopan belize islamabad pakistan',\n",
       " 'belmopan belize jakarta indonesia',\n",
       " 'belmopan belize kabul afghanistan',\n",
       " 'belmopan belize kampala uganda',\n",
       " 'belmopan belize kathmandu nepal',\n",
       " 'belmopan belize khartoum sudan',\n",
       " 'belmopan belize kiev ukraine',\n",
       " 'belmopan belize kigali rwanda',\n",
       " 'belmopan belize kingston jamaica',\n",
       " 'belmopan belize libreville gabon',\n",
       " 'belmopan belize lilongwe malawi',\n",
       " 'belmopan belize lima peru',\n",
       " 'berlin germany bern switzerland',\n",
       " 'berlin germany bishkek kyrgyzstan',\n",
       " 'berlin germany bratislava slovakia',\n",
       " 'berlin germany brussels belgium',\n",
       " 'berlin germany bucharest romania',\n",
       " 'berlin germany budapest hungary',\n",
       " 'berlin germany bujumbura burundi',\n",
       " 'berlin germany cairo egypt',\n",
       " 'berlin germany canberra australia',\n",
       " 'berlin germany caracas venezuela',\n",
       " 'berlin germany chisinau moldova',\n",
       " 'berlin germany conakry guinea',\n",
       " 'berlin germany copenhagen denmark',\n",
       " 'berlin germany dakar senegal',\n",
       " 'berlin germany damascus syria',\n",
       " 'berlin germany dhaka bangladesh',\n",
       " 'berlin germany doha qatar',\n",
       " 'berlin germany dublin ireland',\n",
       " 'berlin germany dushanbe tajikistan',\n",
       " 'berlin germany funafuti tuvalu',\n",
       " 'berlin germany gaborone botswana',\n",
       " 'berlin germany georgetown guyana',\n",
       " 'berlin germany hanoi vietnam',\n",
       " 'berlin germany harare zimbabwe',\n",
       " 'berlin germany havana cuba',\n",
       " 'berlin germany helsinki finland',\n",
       " 'berlin germany islamabad pakistan',\n",
       " 'berlin germany jakarta indonesia',\n",
       " 'berlin germany kabul afghanistan',\n",
       " 'berlin germany kampala uganda',\n",
       " 'berlin germany kathmandu nepal',\n",
       " 'berlin germany khartoum sudan',\n",
       " 'berlin germany kiev ukraine',\n",
       " 'berlin germany kigali rwanda',\n",
       " 'berlin germany kingston jamaica',\n",
       " 'berlin germany libreville gabon',\n",
       " 'berlin germany lilongwe malawi',\n",
       " 'berlin germany lima peru',\n",
       " 'berlin germany lisbon portugal',\n",
       " 'bern switzerland bishkek kyrgyzstan',\n",
       " 'bern switzerland bratislava slovakia',\n",
       " 'bern switzerland brussels belgium',\n",
       " 'bern switzerland bucharest romania',\n",
       " 'bern switzerland budapest hungary',\n",
       " 'bern switzerland bujumbura burundi',\n",
       " 'bern switzerland cairo egypt',\n",
       " 'bern switzerland canberra australia',\n",
       " 'bern switzerland caracas venezuela',\n",
       " 'bern switzerland chisinau moldova',\n",
       " 'bern switzerland conakry guinea',\n",
       " 'bern switzerland copenhagen denmark',\n",
       " 'bern switzerland dakar senegal',\n",
       " 'bern switzerland damascus syria',\n",
       " 'bern switzerland dhaka bangladesh',\n",
       " 'bern switzerland doha qatar',\n",
       " 'bern switzerland dublin ireland',\n",
       " 'bern switzerland dushanbe tajikistan',\n",
       " 'bern switzerland funafuti tuvalu',\n",
       " 'bern switzerland gaborone botswana',\n",
       " 'bern switzerland georgetown guyana',\n",
       " 'bern switzerland hanoi vietnam',\n",
       " 'bern switzerland harare zimbabwe',\n",
       " 'bern switzerland havana cuba',\n",
       " 'bern switzerland helsinki finland',\n",
       " 'bern switzerland islamabad pakistan',\n",
       " 'bern switzerland jakarta indonesia',\n",
       " 'bern switzerland kabul afghanistan',\n",
       " 'bern switzerland kampala uganda',\n",
       " 'bern switzerland kathmandu nepal',\n",
       " 'bern switzerland khartoum sudan',\n",
       " 'bern switzerland kiev ukraine',\n",
       " 'bern switzerland kigali rwanda',\n",
       " 'bern switzerland kingston jamaica',\n",
       " 'bern switzerland libreville gabon',\n",
       " 'bern switzerland lilongwe malawi',\n",
       " 'bern switzerland lima peru',\n",
       " 'bern switzerland lisbon portugal',\n",
       " 'bern switzerland ljubljana slovenia',\n",
       " 'bishkek kyrgyzstan bratislava slovakia',\n",
       " 'bishkek kyrgyzstan brussels belgium',\n",
       " 'bishkek kyrgyzstan bucharest romania',\n",
       " 'bishkek kyrgyzstan budapest hungary',\n",
       " 'bishkek kyrgyzstan bujumbura burundi',\n",
       " 'bishkek kyrgyzstan cairo egypt',\n",
       " 'bishkek kyrgyzstan canberra australia',\n",
       " 'bishkek kyrgyzstan caracas venezuela',\n",
       " 'bishkek kyrgyzstan chisinau moldova',\n",
       " 'bishkek kyrgyzstan conakry guinea',\n",
       " 'bishkek kyrgyzstan copenhagen denmark',\n",
       " 'bishkek kyrgyzstan dakar senegal',\n",
       " 'bishkek kyrgyzstan damascus syria',\n",
       " 'bishkek kyrgyzstan dhaka bangladesh',\n",
       " 'bishkek kyrgyzstan doha qatar',\n",
       " 'bishkek kyrgyzstan dublin ireland',\n",
       " 'bishkek kyrgyzstan dushanbe tajikistan',\n",
       " 'bishkek kyrgyzstan funafuti tuvalu',\n",
       " 'bishkek kyrgyzstan gaborone botswana',\n",
       " 'bishkek kyrgyzstan georgetown guyana',\n",
       " 'bishkek kyrgyzstan hanoi vietnam',\n",
       " 'bishkek kyrgyzstan harare zimbabwe',\n",
       " 'bishkek kyrgyzstan havana cuba',\n",
       " 'bishkek kyrgyzstan helsinki finland',\n",
       " 'bishkek kyrgyzstan islamabad pakistan',\n",
       " 'bishkek kyrgyzstan jakarta indonesia',\n",
       " 'bishkek kyrgyzstan kabul afghanistan',\n",
       " 'bishkek kyrgyzstan kampala uganda',\n",
       " 'bishkek kyrgyzstan kathmandu nepal',\n",
       " 'bishkek kyrgyzstan khartoum sudan',\n",
       " 'bishkek kyrgyzstan kiev ukraine',\n",
       " 'bishkek kyrgyzstan kigali rwanda',\n",
       " 'bishkek kyrgyzstan kingston jamaica',\n",
       " 'bishkek kyrgyzstan libreville gabon',\n",
       " 'bishkek kyrgyzstan lilongwe malawi',\n",
       " 'bishkek kyrgyzstan lima peru',\n",
       " 'bishkek kyrgyzstan lisbon portugal',\n",
       " 'bishkek kyrgyzstan ljubljana slovenia',\n",
       " 'bishkek kyrgyzstan london england',\n",
       " 'bratislava slovakia brussels belgium',\n",
       " 'bratislava slovakia bucharest romania',\n",
       " 'bratislava slovakia budapest hungary',\n",
       " 'bratislava slovakia bujumbura burundi',\n",
       " 'bratislava slovakia cairo egypt',\n",
       " 'bratislava slovakia canberra australia',\n",
       " 'bratislava slovakia caracas venezuela',\n",
       " 'bratislava slovakia chisinau moldova',\n",
       " 'bratislava slovakia conakry guinea',\n",
       " 'bratislava slovakia copenhagen denmark',\n",
       " 'bratislava slovakia dakar senegal',\n",
       " 'bratislava slovakia damascus syria',\n",
       " 'bratislava slovakia dhaka bangladesh',\n",
       " 'bratislava slovakia doha qatar',\n",
       " 'bratislava slovakia dublin ireland',\n",
       " 'bratislava slovakia dushanbe tajikistan',\n",
       " 'bratislava slovakia funafuti tuvalu',\n",
       " 'bratislava slovakia gaborone botswana',\n",
       " 'bratislava slovakia georgetown guyana',\n",
       " 'bratislava slovakia hanoi vietnam',\n",
       " 'bratislava slovakia harare zimbabwe',\n",
       " 'bratislava slovakia havana cuba',\n",
       " 'bratislava slovakia helsinki finland',\n",
       " 'bratislava slovakia islamabad pakistan',\n",
       " 'bratislava slovakia jakarta indonesia',\n",
       " 'bratislava slovakia kabul afghanistan',\n",
       " 'bratislava slovakia kampala uganda',\n",
       " 'bratislava slovakia kathmandu nepal',\n",
       " 'bratislava slovakia khartoum sudan',\n",
       " 'bratislava slovakia kiev ukraine',\n",
       " 'bratislava slovakia kigali rwanda',\n",
       " 'bratislava slovakia kingston jamaica',\n",
       " 'bratislava slovakia libreville gabon',\n",
       " 'bratislava slovakia lilongwe malawi',\n",
       " 'bratislava slovakia lima peru',\n",
       " 'bratislava slovakia lisbon portugal',\n",
       " 'bratislava slovakia ljubljana slovenia',\n",
       " 'bratislava slovakia london england',\n",
       " 'bratislava slovakia luanda angola',\n",
       " 'brussels belgium bucharest romania',\n",
       " 'brussels belgium budapest hungary',\n",
       " 'brussels belgium bujumbura burundi',\n",
       " 'brussels belgium cairo egypt',\n",
       " 'brussels belgium canberra australia',\n",
       " 'brussels belgium caracas venezuela',\n",
       " 'brussels belgium chisinau moldova',\n",
       " 'brussels belgium conakry guinea',\n",
       " 'brussels belgium copenhagen denmark',\n",
       " 'brussels belgium dakar senegal',\n",
       " 'brussels belgium damascus syria',\n",
       " 'brussels belgium dhaka bangladesh',\n",
       " 'brussels belgium doha qatar',\n",
       " 'brussels belgium dublin ireland',\n",
       " 'brussels belgium dushanbe tajikistan',\n",
       " 'brussels belgium funafuti tuvalu',\n",
       " 'brussels belgium gaborone botswana',\n",
       " 'brussels belgium georgetown guyana',\n",
       " 'brussels belgium hanoi vietnam',\n",
       " 'brussels belgium harare zimbabwe',\n",
       " 'brussels belgium havana cuba',\n",
       " 'brussels belgium helsinki finland',\n",
       " 'brussels belgium islamabad pakistan',\n",
       " 'brussels belgium jakarta indonesia',\n",
       " 'brussels belgium kabul afghanistan',\n",
       " 'brussels belgium kampala uganda',\n",
       " 'brussels belgium kathmandu nepal',\n",
       " 'brussels belgium khartoum sudan',\n",
       " 'brussels belgium kiev ukraine',\n",
       " 'brussels belgium kigali rwanda',\n",
       " 'brussels belgium kingston jamaica',\n",
       " 'brussels belgium libreville gabon',\n",
       " 'brussels belgium lilongwe malawi',\n",
       " 'brussels belgium lima peru',\n",
       " 'brussels belgium lisbon portugal',\n",
       " 'brussels belgium ljubljana slovenia',\n",
       " 'brussels belgium london england',\n",
       " 'brussels belgium luanda angola',\n",
       " 'brussels belgium lusaka zambia',\n",
       " 'bucharest romania budapest hungary',\n",
       " 'bucharest romania bujumbura burundi',\n",
       " 'bucharest romania cairo egypt',\n",
       " 'bucharest romania canberra australia',\n",
       " 'bucharest romania caracas venezuela',\n",
       " 'bucharest romania chisinau moldova',\n",
       " 'bucharest romania conakry guinea',\n",
       " 'bucharest romania copenhagen denmark',\n",
       " 'bucharest romania dakar senegal',\n",
       " 'bucharest romania damascus syria',\n",
       " 'bucharest romania dhaka bangladesh',\n",
       " 'bucharest romania doha qatar',\n",
       " 'bucharest romania dublin ireland',\n",
       " 'bucharest romania dushanbe tajikistan',\n",
       " 'bucharest romania funafuti tuvalu',\n",
       " 'bucharest romania gaborone botswana',\n",
       " 'bucharest romania georgetown guyana',\n",
       " 'bucharest romania hanoi vietnam',\n",
       " 'bucharest romania harare zimbabwe',\n",
       " 'bucharest romania havana cuba',\n",
       " 'bucharest romania helsinki finland',\n",
       " 'bucharest romania islamabad pakistan',\n",
       " 'bucharest romania jakarta indonesia',\n",
       " 'bucharest romania kabul afghanistan',\n",
       " 'bucharest romania kampala uganda',\n",
       " ...]"
      ]
     },
     "execution_count": 52,
     "metadata": {},
     "output_type": "execute_result"
    }
   ],
   "source": [
    "# ----- Reading file word-test.v1.txt which has all the analogies -----\n",
    "# ----- File \"word-test.v1.txt\" which has all the analogies is in the same directory as this notebook\n",
    "\n",
    "file = open(\"word-test.v1.txt\", 'rt')\n",
    "text = file.read()\n",
    "file.close()\n",
    "\n",
    "\n",
    "\n",
    "# ----- Lines starting with \":\" delimits the group of words -----\n",
    "\n",
    "tokens = text.split(\":\")\n",
    "\n",
    "\n",
    "\n",
    "# ----- PREPROCESSING text -----\n",
    "# ----- taking the right index from the split list and spliting it further with \"\\n\",\n",
    "# ----- lowering the text and replacing the tabs with no spaces\n",
    "# ----- leaving out the first index\n",
    "\n",
    "captial_world = [x.lower().replace('\\t', '') for x in tokens[2].split(\"\\n\")][1:-1]\n",
    "currency = [x.lower().replace('\\t', '') for x in tokens[3].split(\"\\n\")][1:-1]\n",
    "city_in_state = [x.lower().replace('\\t', '') for x in tokens[4].split(\"\\n\")][1:-1]\n",
    "family = [x.lower().replace('\\t', '') for x in tokens[5].split(\"\\n\")][1:-1]\n",
    "gram1_adjective_to_adverb = [x.lower().replace('\\t', '') for x in tokens[6].split(\"\\n\")][1:-1]\n",
    "gram2_opposite = [x.lower().replace('\\t', '') for x in tokens[7].split(\"\\n\")][1:-1]\n",
    "gram3_comparative = [x.lower().replace('\\t', '') for x in tokens[8].split(\"\\n\")][1:-1]\n",
    "gram6_nationality_adjective = [x.lower().replace('\\t', '') for x in tokens[11].split(\"\\n\")][1:-1]\n",
    "captial_world"
   ]
  },
  {
   "cell_type": "markdown",
   "metadata": {},
   "source": [
    "<br>\n",
    "\n",
    "GloVe Download link: https://nlp.stanford.edu/projects/glove/\n",
    "\n",
    "GloVe File Download link: http://nlp.stanford.edu/data/glove.twitter.27B.zip"
   ]
  },
  {
   "cell_type": "code",
   "execution_count": 53,
   "metadata": {},
   "outputs": [],
   "source": [
    "# ----- Converting pretrained GloVe word embeddings to word2vec and creating a model -----\n",
    "\n",
    "from gensim.test.utils import datapath, get_tmpfile\n",
    "from gensim.models import KeyedVectors\n",
    "from gensim.scripts.glove2word2vec import glove2word2vec\n",
    "import os\n",
    "\n",
    "\n",
    "# ----- The file \"glove.twitter.27B.100d.txt\" is inside \"glove.twitter.27B\" folder -----\n",
    "# ----- which is in the same directory as this notebook\n",
    "\n",
    "glove_file = datapath(os.path.abspath(\"glove.twitter.27B/glove.twitter.27B.100d.txt\"))\n",
    "tmp_file = get_tmpfile(\"test_word2vec.txt\")\n",
    "glove2word2vec(glove_file, tmp_file)\n",
    "glove_model = KeyedVectors.load_word2vec_format(tmp_file)\n",
    "\n",
    "\n",
    "# ----- Reference: https://radimrehurek.com/gensim/scripts/glove2word2vec.html -----"
   ]
  },
  {
   "cell_type": "code",
   "execution_count": 54,
   "metadata": {},
   "outputs": [],
   "source": [
    "# ----- Model accuracy function that calculates accuracy for all models ----- \n",
    "\n",
    "def model_accuracy(test, model):\n",
    "    accuracy = []\n",
    "    for words in test:\n",
    "        a, b, c, d = words.split()\n",
    "        try:\n",
    "            p = model.most_similar(positive=[b, c], negative=[a], topn=1)[0][0]\n",
    "        except KeyError:\n",
    "            p = 'dummy'\n",
    "        if p == d:\n",
    "            accuracy.append(1)\n",
    "        else:\n",
    "            accuracy.append(0)\n",
    "    return (accuracy.count(1)/len(accuracy))*100"
   ]
  },
  {
   "cell_type": "code",
   "execution_count": 55,
   "metadata": {},
   "outputs": [
    {
     "name": "stdout",
     "output_type": "stream",
     "text": [
      "GloVe Model Accuracy for 'captial_world': 45.44650751547303\n"
     ]
    }
   ],
   "source": [
    "print(\"GloVe Model Accuracy for 'captial_world':\", model_accuracy(captial_world, glove_model))"
   ]
  },
  {
   "cell_type": "code",
   "execution_count": 56,
   "metadata": {},
   "outputs": [
    {
     "name": "stdout",
     "output_type": "stream",
     "text": [
      "GloVe Model Accuracy for 'currency': 1.0392609699769053\n"
     ]
    }
   ],
   "source": [
    "print(\"GloVe Model Accuracy for 'currency':\", model_accuracy(currency, glove_model))"
   ]
  },
  {
   "cell_type": "code",
   "execution_count": 57,
   "metadata": {},
   "outputs": [
    {
     "name": "stdout",
     "output_type": "stream",
     "text": [
      "GloVe Model Accuracy for 'city_in_state': 17.916497770571542\n"
     ]
    }
   ],
   "source": [
    "print(\"GloVe Model Accuracy for 'city_in_state':\", model_accuracy(city_in_state, glove_model))"
   ]
  },
  {
   "cell_type": "code",
   "execution_count": 58,
   "metadata": {},
   "outputs": [
    {
     "name": "stdout",
     "output_type": "stream",
     "text": [
      "GloVe Model Accuracy for 'family': 60.27667984189723\n"
     ]
    }
   ],
   "source": [
    "print(\"GloVe Model Accuracy for 'family':\", model_accuracy(family, glove_model))"
   ]
  },
  {
   "cell_type": "code",
   "execution_count": 59,
   "metadata": {},
   "outputs": [
    {
     "name": "stdout",
     "output_type": "stream",
     "text": [
      "GloVe Model Accuracy for 'gram1_adjective_to_adverb': 7.560483870967742\n"
     ]
    }
   ],
   "source": [
    "print(\"GloVe Model Accuracy for 'gram1_adjective_to_adverb':\", model_accuracy(gram1_adjective_to_adverb, glove_model))"
   ]
  },
  {
   "cell_type": "code",
   "execution_count": 60,
   "metadata": {},
   "outputs": [
    {
     "name": "stdout",
     "output_type": "stream",
     "text": [
      "GloVe Model Accuracy for 'gram2_opposite': 16.871921182266007\n"
     ]
    }
   ],
   "source": [
    "print(\"GloVe Model Accuracy for 'gram2_opposite':\", model_accuracy(gram2_opposite, glove_model))"
   ]
  },
  {
   "cell_type": "code",
   "execution_count": 61,
   "metadata": {},
   "outputs": [
    {
     "name": "stdout",
     "output_type": "stream",
     "text": [
      "GloVe Model Accuracy for 'gram3_comparative': 62.53753753753754\n"
     ]
    }
   ],
   "source": [
    "print(\"GloVe Model Accuracy for 'gram3_comparative':\", model_accuracy(gram3_comparative, glove_model))"
   ]
  },
  {
   "cell_type": "code",
   "execution_count": 62,
   "metadata": {},
   "outputs": [
    {
     "name": "stdout",
     "output_type": "stream",
     "text": [
      "GloVe Model Accuracy for 'gram6_nationality_adjective': 45.77861163227016\n"
     ]
    }
   ],
   "source": [
    "print(\"GloVe Model Accuracy for 'gram6_nationality_adjective':\", model_accuracy(gram6_nationality_adjective, glove_model))"
   ]
  },
  {
   "cell_type": "markdown",
   "metadata": {},
   "source": [
    "<br>\n",
    "\n",
    "Lexvec Download link: https://github.com/alexandres/lexvec\n",
    "\n",
    "Lexvec File Download link: https://www.dropbox.com/s/kguufyc2xcdi8yk/lexvec.enwiki%2Bnewscrawl.300d.W.pos.vectors.gz?dl=1"
   ]
  },
  {
   "cell_type": "code",
   "execution_count": 63,
   "metadata": {},
   "outputs": [],
   "source": [
    "# ----- Converting pretrained lexvec word embeddings to word2vec format and creating a model -----\n",
    "# ----- File lexvec.enwiki+newscrawl.300d.W.pos.vectors\" stored in the same directory as the notebook \n",
    "\n",
    "lexvec_model = KeyedVectors.load_word2vec_format(\"lexvec.enwiki+newscrawl.300d.W.pos.vectors\")"
   ]
  },
  {
   "cell_type": "code",
   "execution_count": 64,
   "metadata": {},
   "outputs": [
    {
     "name": "stdout",
     "output_type": "stream",
     "text": [
      "Lexvec Model Accuracy for 'captial_world': 94.36339522546419\n"
     ]
    }
   ],
   "source": [
    "print(\"Lexvec Model Accuracy for 'captial_world':\", model_accuracy(captial_world, lexvec_model))"
   ]
  },
  {
   "cell_type": "code",
   "execution_count": 65,
   "metadata": {},
   "outputs": [
    {
     "name": "stdout",
     "output_type": "stream",
     "text": [
      "Lexvec Model Accuracy for 'currency': 22.0554272517321\n"
     ]
    }
   ],
   "source": [
    "print(\"Lexvec Model Accuracy for 'currency':\", model_accuracy(currency, lexvec_model))"
   ]
  },
  {
   "cell_type": "code",
   "execution_count": 66,
   "metadata": {},
   "outputs": [
    {
     "name": "stdout",
     "output_type": "stream",
     "text": [
      "Lexvec Model Accuracy for 'city_in_state': 72.63883259019052\n"
     ]
    }
   ],
   "source": [
    "print(\"Lexvec Model Accuracy for 'city_in_state':\", model_accuracy(city_in_state, lexvec_model))"
   ]
  },
  {
   "cell_type": "code",
   "execution_count": 67,
   "metadata": {},
   "outputs": [
    {
     "name": "stdout",
     "output_type": "stream",
     "text": [
      "Lexvec Model Accuracy for 'family': 87.74703557312253\n"
     ]
    }
   ],
   "source": [
    "print(\"Lexvec Model Accuracy for 'family':\", model_accuracy(family, lexvec_model))"
   ]
  },
  {
   "cell_type": "code",
   "execution_count": 68,
   "metadata": {},
   "outputs": [
    {
     "name": "stdout",
     "output_type": "stream",
     "text": [
      "Lexvec Model Accuracy for 'gram1_adjective_to_adverb': 24.899193548387096\n"
     ]
    }
   ],
   "source": [
    "print(\"Lexvec Model Accuracy for 'gram1_adjective_to_adverb':\", model_accuracy(gram1_adjective_to_adverb, lexvec_model))"
   ]
  },
  {
   "cell_type": "code",
   "execution_count": 69,
   "metadata": {},
   "outputs": [
    {
     "name": "stdout",
     "output_type": "stream",
     "text": [
      "Lexvec Model Accuracy for 'gram2_opposite': 36.57635467980296\n"
     ]
    }
   ],
   "source": [
    "print(\"Lexvec Model Accuracy for 'gram2_opposite':\", model_accuracy(gram2_opposite, lexvec_model))"
   ]
  },
  {
   "cell_type": "code",
   "execution_count": 70,
   "metadata": {},
   "outputs": [
    {
     "name": "stdout",
     "output_type": "stream",
     "text": [
      "Lexvec Model Accuracy for 'gram3_comparative': 87.31231231231232\n"
     ]
    }
   ],
   "source": [
    "print(\"Lexvec Model Accuracy for 'gram3_comparative':\", model_accuracy(gram3_comparative, lexvec_model))"
   ]
  },
  {
   "cell_type": "code",
   "execution_count": 71,
   "metadata": {},
   "outputs": [
    {
     "name": "stdout",
     "output_type": "stream",
     "text": [
      "Lexvec Model Accuracy for 'gram6_nationality_adjective': 91.80737961225766\n"
     ]
    }
   ],
   "source": [
    "print(\"Lexvec Model Accuracy for 'gram6_nationality_adjective':\", model_accuracy(gram6_nationality_adjective, lexvec_model))"
   ]
  },
  {
   "cell_type": "markdown",
   "metadata": {},
   "source": [
    "<br>\n",
    "<br>\n",
    "\n",
    "### Problem 8: \n",
    "\n",
    "Searching for the top 10 most similar words for words 'increase' and 'enter' using the cosine similarity."
   ]
  },
  {
   "cell_type": "code",
   "execution_count": 72,
   "metadata": {},
   "outputs": [
    {
     "data": {
      "text/plain": [
       "[('increased', 0.887993574142456),\n",
       " ('increasing', 0.8340300917625427),\n",
       " ('decrease', 0.7918903827667236),\n",
       " ('increases', 0.7880600690841675),\n",
       " ('improve', 0.7716851234436035),\n",
       " ('boost', 0.7650824785232544),\n",
       " ('reduce', 0.7445826530456543),\n",
       " ('profits', 0.7273502349853516),\n",
       " ('growth', 0.7266506552696228),\n",
       " ('lower', 0.7259215116500854)]"
      ]
     },
     "execution_count": 72,
     "metadata": {},
     "output_type": "execute_result"
    }
   ],
   "source": [
    "glove_model.most_similar(\"increase\", topn = 10)"
   ]
  },
  {
   "cell_type": "code",
   "execution_count": 73,
   "metadata": {},
   "outputs": [
    {
     "data": {
      "text/plain": [
       "[('decrease', 0.8544164896011353),\n",
       " ('increased', 0.8349589109420776),\n",
       " ('increases', 0.7846347689628601),\n",
       " ('increasing', 0.7320787906646729),\n",
       " ('decreased', 0.6769896745681763),\n",
       " ('reduce', 0.6768884658813477),\n",
       " ('rise', 0.6671466827392578),\n",
       " ('reduced', 0.6613093614578247),\n",
       " ('decline', 0.6586759090423584),\n",
       " ('reduction', 0.6572977304458618)]"
      ]
     },
     "execution_count": 73,
     "metadata": {},
     "output_type": "execute_result"
    }
   ],
   "source": [
    "lexvec_model.most_similar(\"increase\", topn = 10)"
   ]
  },
  {
   "cell_type": "code",
   "execution_count": 74,
   "metadata": {},
   "outputs": [
    {
     "data": {
      "text/plain": [
       "[('giveaway', 0.8220357894897461),\n",
       " ('entered', 0.8185302019119263),\n",
       " ('prize', 0.766309380531311),\n",
       " ('competition', 0.7326720356941223),\n",
       " ('contest', 0.7288600206375122),\n",
       " ('win', 0.7278855443000793),\n",
       " ('prizes', 0.7236887216567993),\n",
       " ('comp', 0.7213659882545471),\n",
       " ('winners', 0.6834891438484192),\n",
       " ('winner', 0.6830912232398987)]"
      ]
     },
     "execution_count": 74,
     "metadata": {},
     "output_type": "execute_result"
    }
   ],
   "source": [
    "glove_model.most_similar(\"enter\", topn = 10)"
   ]
  },
  {
   "cell_type": "code",
   "execution_count": 75,
   "metadata": {},
   "outputs": [
    {
     "data": {
      "text/plain": [
       "[('entering', 0.7462573647499084),\n",
       " ('entered', 0.7203364968299866),\n",
       " ('reenter', 0.6578646898269653),\n",
       " ('participate', 0.5398669242858887),\n",
       " ('enters', 0.5306301116943359),\n",
       " ('arrive', 0.5217719078063965),\n",
       " ('exiting', 0.5177127718925476),\n",
       " ('join', 0.505316972732544),\n",
       " ('depart', 0.4942780137062073),\n",
       " ('leave', 0.48944905400276184)]"
      ]
     },
     "execution_count": 75,
     "metadata": {},
     "output_type": "execute_result"
    }
   ],
   "source": [
    "lexvec_model.most_similar(\"enter\", topn = 10)"
   ]
  },
  {
   "cell_type": "markdown",
   "metadata": {},
   "source": [
    "Explanatoion: Word2vec does not capture similarity based on antonyms and synonyms. Word2vec would give a higher similarity if the two words have similar context. Which means that words like \"increase\" would come in the same context as words like 'decrease', 'decreased', 'reduce', 'reduced', 'decline', which are antonyms of it. Let's take a sentence, \"the pilot _______ the cabin\". The blank can be replaced with 'enters' and 'exits' which means the similarity between these two words will be high as they come in the same context with the other words in the sentence. This is called paradigmatic relations.\n",
    "\n",
    "<br>"
   ]
  },
  {
   "cell_type": "markdown",
   "metadata": {},
   "source": [
    "<br>\n",
    "\n",
    "### Problem 9:\n",
    "\n",
    "Designed two new types of analogy tests - 'vehicle_mode' and 'animal_child'. \n",
    "'vehicle_mode' is a list with vehicles and their medium of transportation. \n",
    "'animal_child' is a list with animals and their juvenile names.\n",
    "'vehicle_mode' and 'animal_child' are designed like the analogies dataset.\n",
    "\n",
    "Two other lists 'animal_habitat' and 'animal_children' are also created. "
   ]
  },
  {
   "cell_type": "code",
   "execution_count": 76,
   "metadata": {},
   "outputs": [],
   "source": [
    "vehicle_mode = ['boat water car road',\n",
    "                'boat water train track',\n",
    "                'car road train track',\n",
    "                'car road boat water',\n",
    "                'train track boat water',\n",
    "                'train track car road']\n",
    "\n",
    "animal_child = ['cat kitten dog puppy',\n",
    "                'cat kitten goat kid',\n",
    "                'dog puppy cat kitten',\n",
    "                'dog puppy goat kid',\n",
    "                'goat kid cat kitten',\n",
    "                'goat kid dog puppy']"
   ]
  },
  {
   "cell_type": "code",
   "execution_count": 78,
   "metadata": {},
   "outputs": [
    {
     "name": "stdout",
     "output_type": "stream",
     "text": [
      "Glove Model Accuracy for 'vehicle_medium': 0.0\n"
     ]
    }
   ],
   "source": [
    "print(\"Glove Model Accuracy for 'vehicle_mode':\", model_accuracy(vehicle_mode, glove_model))"
   ]
  },
  {
   "cell_type": "code",
   "execution_count": 79,
   "metadata": {},
   "outputs": [
    {
     "name": "stdout",
     "output_type": "stream",
     "text": [
      "Lexvec Model Accuracy for 'vehicle_mode': 0.0\n"
     ]
    }
   ],
   "source": [
    "print(\"Lexvec Model Accuracy for 'vehicle_mode':\", model_accuracy(vehicle_mode, lexvec_model))"
   ]
  },
  {
   "cell_type": "code",
   "execution_count": 80,
   "metadata": {},
   "outputs": [
    {
     "name": "stdout",
     "output_type": "stream",
     "text": [
      "Glove Model Accuracy for 'animal_child': 33.33333333333333\n"
     ]
    }
   ],
   "source": [
    "print(\"Glove Model Accuracy for 'animal_child':\", model_accuracy(animal_child, glove_model))"
   ]
  },
  {
   "cell_type": "code",
   "execution_count": 81,
   "metadata": {},
   "outputs": [
    {
     "name": "stdout",
     "output_type": "stream",
     "text": [
      "Lexvec Model Accuracy for 'animal_child': 33.33333333333333\n"
     ]
    }
   ],
   "source": [
    "print(\"Lexvec Model Accuracy for 'animal_child':\", model_accuracy(animal_child, lexvec_model))"
   ]
  },
  {
   "cell_type": "code",
   "execution_count": 82,
   "metadata": {},
   "outputs": [],
   "source": [
    "animal_habitat = ['dog kennel fowl coop',\n",
    "                  'lion den mouse hole',\n",
    "                  'horse stable bee hive']\n",
    "\n",
    "animal_children = ['cat kitten dog puppy',\n",
    "                   'cow calf goat kid',\n",
    "                   'peacock peachicks rooster chick']"
   ]
  },
  {
   "cell_type": "code",
   "execution_count": 83,
   "metadata": {},
   "outputs": [
    {
     "name": "stdout",
     "output_type": "stream",
     "text": [
      "Glove Model Accuracy for 'animal_habitat': 0.0\n"
     ]
    }
   ],
   "source": [
    "print(\"Glove Model Accuracy for 'animal_habitat':\", model_accuracy(animal_habitat, glove_model))"
   ]
  },
  {
   "cell_type": "code",
   "execution_count": 84,
   "metadata": {},
   "outputs": [
    {
     "name": "stdout",
     "output_type": "stream",
     "text": [
      "Lexvec Model Accuracy for 'animal_habitat': 0.0\n"
     ]
    }
   ],
   "source": [
    "print(\"Lexvec Model Accuracy for 'animal_habitat':\", model_accuracy(animal_habitat, lexvec_model))"
   ]
  },
  {
   "cell_type": "code",
   "execution_count": 85,
   "metadata": {},
   "outputs": [
    {
     "name": "stdout",
     "output_type": "stream",
     "text": [
      "Glove Model Accuracy for 'animal_children': 33.33333333333333\n"
     ]
    }
   ],
   "source": [
    "print(\"Glove Model Accuracy for 'animal_children':\", model_accuracy(animal_children, glove_model))"
   ]
  },
  {
   "cell_type": "code",
   "execution_count": 86,
   "metadata": {},
   "outputs": [
    {
     "name": "stdout",
     "output_type": "stream",
     "text": [
      "Lexvec Model Accuracy for 'animal_children': 33.33333333333333\n"
     ]
    }
   ],
   "source": [
    "print(\"Lexvec Model Accuracy for 'animal_children':\", model_accuracy(animal_children, lexvec_model))"
   ]
  },
  {
   "cell_type": "markdown",
   "metadata": {},
   "source": [
    "If the words do not appear in each other's context window then the words won't show up in each others similarity list and the accuracy would be zero."
   ]
  },
  {
   "cell_type": "code",
   "execution_count": null,
   "metadata": {},
   "outputs": [],
   "source": [
    "# ----- Deleting models -----\n",
    "\n",
    "del glove_model\n",
    "del lexvec_model"
   ]
  }
 ],
 "metadata": {
  "kernelspec": {
   "display_name": "Python 3",
   "language": "python",
   "name": "python3"
  },
  "language_info": {
   "codemirror_mode": {
    "name": "ipython",
    "version": 3
   },
   "file_extension": ".py",
   "mimetype": "text/x-python",
   "name": "python",
   "nbconvert_exporter": "python",
   "pygments_lexer": "ipython3",
   "version": "3.7.3"
  }
 },
 "nbformat": 4,
 "nbformat_minor": 2
}
